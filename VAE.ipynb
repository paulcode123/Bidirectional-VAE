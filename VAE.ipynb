{
 "cells": [
  {
   "cell_type": "markdown",
   "metadata": {},
   "source": [
    "Data Processing"
   ]
  },
  {
   "cell_type": "code",
   "execution_count": 153,
   "metadata": {},
   "outputs": [],
   "source": [
    "import itertools\n",
    "import torch\n",
    "import torch.nn as nn\n",
    "import torch.nn.functional as F\n",
    "from torch.utils.data import TensorDataset, Dataset, Subset, ConcatDataset\n",
    "from pathlib import Path\n",
    "import numpy as np\n",
    "from tqdm import tqdm\n",
    "import abc\n",
    "import wandb\n",
    "from torchvision import transforms as T\n",
    "# from byol_pytorch import BYOL\n",
    "from scipy.spatial.transform import Rotation as R\n",
    "from PIL import Image\n",
    "import torchvision\n",
    "import json\n",
    "from torch.utils.data import DataLoader\n",
    "import os\n",
    "import pickle as pkl\n",
    "import matplotlib.pyplot as plt\n",
    "import math\n",
    "\n",
    "# create abstract Dataset class called StickDataset\n",
    "import cv2\n",
    "\n",
    "\n",
    "from utils.r3D_semantic_dataset import load_depth\n",
    "from utils.metrics import get_act_mean_std\n",
    "from utils.traverse_data import iter_dir_for_traj_pths\n",
    "\n",
    "\n",
    "class BaseStickDataset(Dataset, abc.ABC):\n",
    "    def __init__(self, traj_path, time_skip, time_offset, time_trim):\n",
    "        super().__init__()\n",
    "        self.traj_path = Path(traj_path)\n",
    "        self.time_skip = time_skip\n",
    "        self.time_offset = time_offset\n",
    "        self.time_trim = time_trim\n",
    "        self.img_pth = self.traj_path / \"images\"\n",
    "        self.depth_pth = self.traj_path / \"depths\"\n",
    "        self.conf_pth = self.traj_path / \"confs\"\n",
    "        self.labels_pth = self.traj_path / \"labels.json\"\n",
    "\n",
    "        self.labels = json.load(self.labels_pth.open(\"r\"))\n",
    "        self.img_keys = sorted(self.labels.keys())\n",
    "        # lable structure: {image_name: {'xyz' : [x,y,z], 'rpy' : [r, p, y], 'gripper': gripper}, ...}\n",
    "\n",
    "        self.labels = np.array(\n",
    "            [self.flatten_label(self.labels[k]) for k in self.img_keys]\n",
    "        )\n",
    "\n",
    "        # filter using time_skip and time_offset and time_trim. start from time_offset, skip time_skip, and remove last time_trim\n",
    "        self.labels = self.labels[: -self.time_trim][self.time_offset :: self.time_skip]\n",
    "\n",
    "        # filter keys using time_skip and time_offset and time_trim. start from time_offset, skip time_skip, and remove last time_trim\n",
    "        self.img_keys = self.img_keys[: -self.time_trim][\n",
    "            self.time_offset :: self.time_skip\n",
    "        ]\n",
    "\n",
    "    def flatten_label(self, label):\n",
    "        # flatten label\n",
    "        xyz = label[\"xyz\"]\n",
    "        rpy = label[\"rpy\"]\n",
    "        gripper = label[\"gripper\"]\n",
    "        return np.concatenate((xyz, rpy, np.array([gripper])))\n",
    "\n",
    "    def __len__(self):\n",
    "        return len(self.img_keys)\n",
    "\n",
    "    def __getitem__(self, idx):\n",
    "        # not implemented\n",
    "\n",
    "        raise NotImplementedError\n",
    "\n",
    "\n",
    "class StickDataset(BaseStickDataset, abc.ABC):\n",
    "    def __init__(\n",
    "        self, traj_path, traj_len, time_skip, time_offset, time_trim, traj_skip\n",
    "    ):\n",
    "        super().__init__(traj_path, time_skip, time_offset, time_trim)\n",
    "        self.traj_len = traj_len\n",
    "        self.traj_skip = traj_skip\n",
    "        self.reformat_labels(self.labels)\n",
    "        self.act_metrics = None\n",
    "\n",
    "    def set_act_metrics(self, act_metrics):\n",
    "        self.act_metrics = act_metrics\n",
    "\n",
    "    def reformat_labels(self, labels):\n",
    "        # reformat labels to be delta xyz, delta rpy, next gripper state\n",
    "        new_labels = np.zeros_like(labels)\n",
    "        new_img_keys = []\n",
    "\n",
    "        for i in range(len(labels) - 1):\n",
    "            if i == 0:\n",
    "                current_label = labels[i]\n",
    "                next_label = labels[i + 1]\n",
    "            else:\n",
    "                next_label = labels[i + 1]\n",
    "\n",
    "            current_matrix = np.eye(4)\n",
    "            r = R.from_euler(\"xyz\", current_label[3:6], degrees=False)\n",
    "            current_matrix[:3, :3] = r.as_matrix()\n",
    "            current_matrix[:3, 3] = current_label[:3]\n",
    "\n",
    "            next_matrix = np.eye(4)\n",
    "            r = R.from_euler(\"xyz\", next_label[3:6], degrees=False)\n",
    "            next_matrix[:3, :3] = r.as_matrix()\n",
    "            next_matrix[:3, 3] = next_label[:3]\n",
    "\n",
    "            delta_matrix = np.linalg.inv(current_matrix) @ next_matrix\n",
    "            delta_xyz = delta_matrix[:3, 3]\n",
    "            delta_r = R.from_matrix(delta_matrix[:3, :3])\n",
    "            delta_rpy = delta_r.as_euler(\"xyz\", degrees=False)\n",
    "\n",
    "            del_gripper = next_label[6] - current_label[6]\n",
    "            xyz_norm = np.linalg.norm(delta_xyz)\n",
    "            rpy_norm = np.linalg.norm(delta_r.as_rotvec())\n",
    "\n",
    "            if xyz_norm < 0.01 and rpy_norm < 0.008 and abs(del_gripper) < 0.05:\n",
    "                # drop this label and corresponding image_key since the delta is too small (basically the same image)\n",
    "                continue\n",
    "\n",
    "            new_labels[i] = np.concatenate(\n",
    "                (delta_xyz, delta_rpy, np.array([next_label[6]]))\n",
    "            )\n",
    "            new_img_keys.append(self.img_keys[i])\n",
    "            current_label = next_label\n",
    "\n",
    "        # remove labels with all 0s\n",
    "        new_labels = new_labels[new_labels.sum(axis=1) != 0]\n",
    "        assert len(new_labels) == len(new_img_keys)\n",
    "        self.labels = new_labels\n",
    "        self.img_keys = new_img_keys\n",
    "\n",
    "    def load_labels(self, idx):\n",
    "        # load labels with window size of traj_len, starting from idx and moving window by traj_skip\n",
    "        labels = self.labels[\n",
    "            idx * self.traj_skip : idx * self.traj_skip + self.traj_len\n",
    "        ]\n",
    "        # normalize labels\n",
    "        if self.act_metrics is not None:\n",
    "            labels = (labels - self.act_metrics[\"mean\"].numpy()) / self.act_metrics[\n",
    "                \"std\"\n",
    "            ].numpy()\n",
    "        return labels\n",
    "\n",
    "    def get_img_pths(self, idx):\n",
    "        # get image paths with window size of traj_len, starting from idx and moving window by traj_skip\n",
    "        img_keys = self.img_keys[\n",
    "            idx * self.traj_skip : idx * self.traj_skip + self.traj_len\n",
    "        ]\n",
    "        img_pths = [self.img_pth / k for k in img_keys]\n",
    "        return img_pths\n",
    "\n",
    "    def __len__(self):\n",
    "        return (len(self.img_keys) - self.traj_len) // self.traj_skip + 1\n",
    "\n",
    "    def __getitem__(self, idx):\n",
    "        if idx < 0 or idx >= len(self):\n",
    "            raise IndexError()\n",
    "        return None, self.load_labels(idx)\n",
    "\n",
    "\n",
    "class ImageStickDataset(StickDataset):\n",
    "    def __init__(\n",
    "        self,\n",
    "        traj_path,\n",
    "        traj_len,\n",
    "        time_skip,\n",
    "        time_offset,\n",
    "        time_trim,\n",
    "        traj_skip,\n",
    "        img_size,\n",
    "        pre_load=False,\n",
    "        transforms=None,\n",
    "    ):\n",
    "        super().__init__(\n",
    "            traj_path, traj_len, time_skip, time_offset, time_trim, traj_skip\n",
    "        )\n",
    "        self.img_size = img_size\n",
    "        self.pre_load = pre_load\n",
    "        self.transforms = transforms\n",
    "        self.preprocess_img_transforms = torchvision.transforms.Compose(\n",
    "            [\n",
    "                torchvision.transforms.Resize(self.img_size),\n",
    "                torchvision.transforms.ToTensor(),\n",
    "            ]\n",
    "        )\n",
    "        if self.pre_load:\n",
    "            self.imgs = self.load_imgs()\n",
    "\n",
    "    def load_imgs(self):\n",
    "        # load images in uint8 with window size of traj_len, starting from idx and moving window by traj_skip\n",
    "        imgs = []\n",
    "\n",
    "        for key in tqdm(self.img_keys):\n",
    "            img = Image.open(str(self.img_pth / key))\n",
    "            img = self.preprocess_img_transforms(img)\n",
    "            imgs.append(img)\n",
    "        # add a nex axis at the beginning\n",
    "        imgs = torch.stack(imgs, dim=0)\n",
    "        return imgs\n",
    "\n",
    "    def __getitem__(self, idx):\n",
    "        _, labels = super().__getitem__(idx)\n",
    "\n",
    "        if self.pre_load:\n",
    "            imgs = self.imgs[\n",
    "                idx * self.traj_skip : idx * self.traj_skip + self.traj_len\n",
    "            ]\n",
    "        else:\n",
    "            imgs = []\n",
    "            for key in self.img_keys[\n",
    "                idx * self.traj_skip : idx * self.traj_skip + self.traj_len\n",
    "            ]:\n",
    "                img = Image.open(str(self.img_pth / key))\n",
    "                img = self.preprocess_img_transforms(img)\n",
    "                imgs.append(img)\n",
    "            # add a nex axis at the beginning\n",
    "            imgs = torch.stack(imgs, dim=0)\n",
    "\n",
    "        if self.transforms:\n",
    "            imgs = self.transforms(imgs)\n",
    "\n",
    "        return imgs, labels\n"
   ]
  },
  {
   "cell_type": "code",
   "execution_count": 154,
   "metadata": {},
   "outputs": [],
   "source": [
    "def get_image_stick_dataset(\n",
    "    data_path,\n",
    "    traj_len=1,\n",
    "    traj_skip=1,\n",
    "    time_skip=4,\n",
    "    time_offset=5,\n",
    "    time_trim=5,\n",
    "    img_size=224,\n",
    "    pre_load=True,\n",
    "    apply_transforms=True,\n",
    "    val_mask=None,\n",
    "    mask_texts=None,\n",
    "    cfg=None,\n",
    "):\n",
    "    # add transforms for normalization and converting to float tensor\n",
    "    if type(data_path) == str:\n",
    "        data_path = Path(data_path)\n",
    "\n",
    "    if apply_transforms:\n",
    "        transforms = torchvision.transforms.Compose(\n",
    "            [\n",
    "                torchvision.transforms.Normalize(\n",
    "                    mean=[0.485, 0.456, 0.406], std=[0.229, 0.224, 0.225]\n",
    "                )\n",
    "            ]\n",
    "        )\n",
    "    else:\n",
    "        transforms = None\n",
    "\n",
    "    train_traj_paths, val_traj_paths, test_traj_paths = iter_dir_for_traj_pths(\n",
    "        data_path, val_mask, mask_texts\n",
    "    )\n",
    "    # train_traj_paths = train_traj_paths[:64]\n",
    "    # val_traj_paths = val_traj_paths[:16]\n",
    "    # test_traj_paths = test_traj_paths[:16]\n",
    "    # concatenate all the Datasets for all the trajectories\n",
    "    train_dataset = ConcatDataset(\n",
    "        [\n",
    "            ImageStickDataset(\n",
    "                traj_path,\n",
    "                traj_len,\n",
    "                time_skip,\n",
    "                time_offset_n,\n",
    "                time_trim,\n",
    "                traj_skip,\n",
    "                img_size,\n",
    "                pre_load=pre_load,\n",
    "                transforms=transforms,\n",
    "            )\n",
    "            for traj_path, time_offset_n in itertools.product(\n",
    "                train_traj_paths, [time_offset, time_offset + 2]\n",
    "            )\n",
    "        ]\n",
    "    )\n",
    "\n",
    "    \n",
    "\n",
    "    if len(val_traj_paths) > 0:\n",
    "        val_dataset = ConcatDataset(\n",
    "            [\n",
    "                ImageStickDataset(\n",
    "                    traj_path,\n",
    "                    traj_len,\n",
    "                    time_skip,\n",
    "                    time_offset,\n",
    "                    time_trim,\n",
    "                    traj_skip,\n",
    "                    img_size,\n",
    "                    pre_load=pre_load,\n",
    "                    transforms=transforms,\n",
    "                )\n",
    "                for traj_path in val_traj_paths\n",
    "            ]\n",
    "        )\n",
    "        \n",
    "    else:\n",
    "        val_dataset = None\n",
    "\n",
    "    if len(test_traj_paths) > 0:\n",
    "        test_dataset = ConcatDataset(\n",
    "            [\n",
    "                ImageStickDataset(\n",
    "                    traj_path,\n",
    "                    traj_len,\n",
    "                    time_skip,\n",
    "                    time_offset,\n",
    "                    time_trim,\n",
    "                    traj_skip,\n",
    "                    img_size,\n",
    "                    pre_load=pre_load,\n",
    "                    transforms=transforms,\n",
    "                )\n",
    "                for traj_path in test_traj_paths\n",
    "            ]\n",
    "        )\n",
    "    else:\n",
    "        test_dataset = None\n",
    "\n",
    "    return train_dataset, val_dataset, test_dataset"
   ]
  },
  {
   "cell_type": "code",
   "execution_count": 155,
   "metadata": {},
   "outputs": [],
   "source": [
    "val_mask = {'home': [],\n",
    "  'env': [],\n",
    "  # 'traj': ['2023-07-11--15-16-54_0', '2023-07-11--15-18-02_0',  '2023-07-11--15-19-10_0',  '2023-07-11--15-20-19_0',  '2023-07-11--15-21-14_0', '2023-07-11--15-17-36_0',  '2023-07-11--15-18-35_0',  '2023-07-11--15-19-42_0']}\n",
    "  'traj': []}\n",
    "\n",
    "apply_transforms = True  ## We apply transforms now for normalizing the image\n",
    "img_size = [224, 224]"
   ]
  },
  {
   "cell_type": "code",
   "execution_count": 156,
   "metadata": {},
   "outputs": [
    {
     "name": "stdout",
     "output_type": "stream",
     "text": [
      "Iterating through:  /home/robot-lab/data/Data/MicroOpener\n",
      "Iterating through:  /home/robot-lab/data/Data/MicroOpener/Courant\n",
      "Iterating through:  /home/robot-lab/data/Data/MicroOpener/Courant/Env1\n",
      "Total number of trajectories:  9\n",
      "total number of train trajectories:  9\n",
      "total number of test trajectories:  0\n",
      "Total number of val trajectories:  0\n"
     ]
    },
    {
     "name": "stderr",
     "output_type": "stream",
     "text": [
      "  0%|          | 0/79 [00:00<?, ?it/s]"
     ]
    },
    {
     "name": "stderr",
     "output_type": "stream",
     "text": [
      "100%|██████████| 79/79 [00:00<00:00, 174.55it/s]\n",
      " 65%|██████▌   | 52/80 [00:00<00:00, 170.90it/s]\n"
     ]
    },
    {
     "ename": "KeyboardInterrupt",
     "evalue": "",
     "output_type": "error",
     "traceback": [
      "\u001b[0;31m---------------------------------------------------------------------------\u001b[0m",
      "\u001b[0;31mKeyboardInterrupt\u001b[0m                         Traceback (most recent call last)",
      "Cell \u001b[0;32mIn[156], line 1\u001b[0m\n\u001b[0;32m----> 1\u001b[0m train, val, test \u001b[39m=\u001b[39m get_image_stick_dataset(data_path\u001b[39m=\u001b[39;49m\u001b[39m'\u001b[39;49m\u001b[39m/home/robot-lab/data/Data/MicroOpener\u001b[39;49m\u001b[39m'\u001b[39;49m, img_size\u001b[39m=\u001b[39;49mimg_size, val_mask \u001b[39m=\u001b[39;49m val_mask, apply_transforms \u001b[39m=\u001b[39;49m apply_transforms)\n",
      "Cell \u001b[0;32mIn[154], line 38\u001b[0m, in \u001b[0;36mget_image_stick_dataset\u001b[0;34m(data_path, traj_len, traj_skip, time_skip, time_offset, time_trim, img_size, pre_load, apply_transforms, val_mask, mask_texts, cfg)\u001b[0m\n\u001b[1;32m     30\u001b[0m train_traj_paths, val_traj_paths, test_traj_paths \u001b[39m=\u001b[39m iter_dir_for_traj_pths(\n\u001b[1;32m     31\u001b[0m     data_path, val_mask, mask_texts\n\u001b[1;32m     32\u001b[0m )\n\u001b[1;32m     33\u001b[0m \u001b[39m# train_traj_paths = train_traj_paths[:64]\u001b[39;00m\n\u001b[1;32m     34\u001b[0m \u001b[39m# val_traj_paths = val_traj_paths[:16]\u001b[39;00m\n\u001b[1;32m     35\u001b[0m \u001b[39m# test_traj_paths = test_traj_paths[:16]\u001b[39;00m\n\u001b[1;32m     36\u001b[0m \u001b[39m# concatenate all the Datasets for all the trajectories\u001b[39;00m\n\u001b[1;32m     37\u001b[0m train_dataset \u001b[39m=\u001b[39m ConcatDataset(\n\u001b[0;32m---> 38\u001b[0m     [\n\u001b[1;32m     39\u001b[0m         ImageStickDataset(\n\u001b[1;32m     40\u001b[0m             traj_path,\n\u001b[1;32m     41\u001b[0m             traj_len,\n\u001b[1;32m     42\u001b[0m             time_skip,\n\u001b[1;32m     43\u001b[0m             time_offset_n,\n\u001b[1;32m     44\u001b[0m             time_trim,\n\u001b[1;32m     45\u001b[0m             traj_skip,\n\u001b[1;32m     46\u001b[0m             img_size,\n\u001b[1;32m     47\u001b[0m             pre_load\u001b[39m=\u001b[39mpre_load,\n\u001b[1;32m     48\u001b[0m             transforms\u001b[39m=\u001b[39mtransforms,\n\u001b[1;32m     49\u001b[0m         )\n\u001b[1;32m     50\u001b[0m         \u001b[39mfor\u001b[39;00m traj_path, time_offset_n \u001b[39min\u001b[39;00m itertools\u001b[39m.\u001b[39mproduct(\n\u001b[1;32m     51\u001b[0m             train_traj_paths, [time_offset, time_offset \u001b[39m+\u001b[39m \u001b[39m2\u001b[39m]\n\u001b[1;32m     52\u001b[0m         )\n\u001b[1;32m     53\u001b[0m     ]\n\u001b[1;32m     54\u001b[0m )\n\u001b[1;32m     58\u001b[0m \u001b[39mif\u001b[39;00m \u001b[39mlen\u001b[39m(val_traj_paths) \u001b[39m>\u001b[39m \u001b[39m0\u001b[39m:\n\u001b[1;32m     59\u001b[0m     val_dataset \u001b[39m=\u001b[39m ConcatDataset(\n\u001b[1;32m     60\u001b[0m         [\n\u001b[1;32m     61\u001b[0m             ImageStickDataset(\n\u001b[0;32m   (...)\u001b[0m\n\u001b[1;32m     73\u001b[0m         ]\n\u001b[1;32m     74\u001b[0m     )\n",
      "Cell \u001b[0;32mIn[154], line 39\u001b[0m, in \u001b[0;36m<listcomp>\u001b[0;34m(.0)\u001b[0m\n\u001b[1;32m     30\u001b[0m train_traj_paths, val_traj_paths, test_traj_paths \u001b[39m=\u001b[39m iter_dir_for_traj_pths(\n\u001b[1;32m     31\u001b[0m     data_path, val_mask, mask_texts\n\u001b[1;32m     32\u001b[0m )\n\u001b[1;32m     33\u001b[0m \u001b[39m# train_traj_paths = train_traj_paths[:64]\u001b[39;00m\n\u001b[1;32m     34\u001b[0m \u001b[39m# val_traj_paths = val_traj_paths[:16]\u001b[39;00m\n\u001b[1;32m     35\u001b[0m \u001b[39m# test_traj_paths = test_traj_paths[:16]\u001b[39;00m\n\u001b[1;32m     36\u001b[0m \u001b[39m# concatenate all the Datasets for all the trajectories\u001b[39;00m\n\u001b[1;32m     37\u001b[0m train_dataset \u001b[39m=\u001b[39m ConcatDataset(\n\u001b[1;32m     38\u001b[0m     [\n\u001b[0;32m---> 39\u001b[0m         ImageStickDataset(\n\u001b[1;32m     40\u001b[0m             traj_path,\n\u001b[1;32m     41\u001b[0m             traj_len,\n\u001b[1;32m     42\u001b[0m             time_skip,\n\u001b[1;32m     43\u001b[0m             time_offset_n,\n\u001b[1;32m     44\u001b[0m             time_trim,\n\u001b[1;32m     45\u001b[0m             traj_skip,\n\u001b[1;32m     46\u001b[0m             img_size,\n\u001b[1;32m     47\u001b[0m             pre_load\u001b[39m=\u001b[39;49mpre_load,\n\u001b[1;32m     48\u001b[0m             transforms\u001b[39m=\u001b[39;49mtransforms,\n\u001b[1;32m     49\u001b[0m         )\n\u001b[1;32m     50\u001b[0m         \u001b[39mfor\u001b[39;00m traj_path, time_offset_n \u001b[39min\u001b[39;00m itertools\u001b[39m.\u001b[39mproduct(\n\u001b[1;32m     51\u001b[0m             train_traj_paths, [time_offset, time_offset \u001b[39m+\u001b[39m \u001b[39m2\u001b[39m]\n\u001b[1;32m     52\u001b[0m         )\n\u001b[1;32m     53\u001b[0m     ]\n\u001b[1;32m     54\u001b[0m )\n\u001b[1;32m     58\u001b[0m \u001b[39mif\u001b[39;00m \u001b[39mlen\u001b[39m(val_traj_paths) \u001b[39m>\u001b[39m \u001b[39m0\u001b[39m:\n\u001b[1;32m     59\u001b[0m     val_dataset \u001b[39m=\u001b[39m ConcatDataset(\n\u001b[1;32m     60\u001b[0m         [\n\u001b[1;32m     61\u001b[0m             ImageStickDataset(\n\u001b[0;32m   (...)\u001b[0m\n\u001b[1;32m     73\u001b[0m         ]\n\u001b[1;32m     74\u001b[0m     )\n",
      "Cell \u001b[0;32mIn[153], line 191\u001b[0m, in \u001b[0;36mImageStickDataset.__init__\u001b[0;34m(self, traj_path, traj_len, time_skip, time_offset, time_trim, traj_skip, img_size, pre_load, transforms)\u001b[0m\n\u001b[1;32m    184\u001b[0m \u001b[39mself\u001b[39m\u001b[39m.\u001b[39mpreprocess_img_transforms \u001b[39m=\u001b[39m torchvision\u001b[39m.\u001b[39mtransforms\u001b[39m.\u001b[39mCompose(\n\u001b[1;32m    185\u001b[0m     [\n\u001b[1;32m    186\u001b[0m         torchvision\u001b[39m.\u001b[39mtransforms\u001b[39m.\u001b[39mResize(\u001b[39mself\u001b[39m\u001b[39m.\u001b[39mimg_size),\n\u001b[1;32m    187\u001b[0m         torchvision\u001b[39m.\u001b[39mtransforms\u001b[39m.\u001b[39mToTensor(),\n\u001b[1;32m    188\u001b[0m     ]\n\u001b[1;32m    189\u001b[0m )\n\u001b[1;32m    190\u001b[0m \u001b[39mif\u001b[39;00m \u001b[39mself\u001b[39m\u001b[39m.\u001b[39mpre_load:\n\u001b[0;32m--> 191\u001b[0m     \u001b[39mself\u001b[39m\u001b[39m.\u001b[39mimgs \u001b[39m=\u001b[39m \u001b[39mself\u001b[39;49m\u001b[39m.\u001b[39;49mload_imgs()\n",
      "Cell \u001b[0;32mIn[153], line 199\u001b[0m, in \u001b[0;36mImageStickDataset.load_imgs\u001b[0;34m(self)\u001b[0m\n\u001b[1;32m    197\u001b[0m \u001b[39mfor\u001b[39;00m key \u001b[39min\u001b[39;00m tqdm(\u001b[39mself\u001b[39m\u001b[39m.\u001b[39mimg_keys):\n\u001b[1;32m    198\u001b[0m     img \u001b[39m=\u001b[39m Image\u001b[39m.\u001b[39mopen(\u001b[39mstr\u001b[39m(\u001b[39mself\u001b[39m\u001b[39m.\u001b[39mimg_pth \u001b[39m/\u001b[39m key))\n\u001b[0;32m--> 199\u001b[0m     img \u001b[39m=\u001b[39m \u001b[39mself\u001b[39;49m\u001b[39m.\u001b[39;49mpreprocess_img_transforms(img)\n\u001b[1;32m    200\u001b[0m     imgs\u001b[39m.\u001b[39mappend(img)\n\u001b[1;32m    201\u001b[0m \u001b[39m# add a nex axis at the beginning\u001b[39;00m\n",
      "File \u001b[0;32m~/anaconda3/envs/BVAE/lib/python3.10/site-packages/torchvision/transforms/transforms.py:95\u001b[0m, in \u001b[0;36mCompose.__call__\u001b[0;34m(self, img)\u001b[0m\n\u001b[1;32m     93\u001b[0m \u001b[39mdef\u001b[39;00m \u001b[39m__call__\u001b[39m(\u001b[39mself\u001b[39m, img):\n\u001b[1;32m     94\u001b[0m     \u001b[39mfor\u001b[39;00m t \u001b[39min\u001b[39;00m \u001b[39mself\u001b[39m\u001b[39m.\u001b[39mtransforms:\n\u001b[0;32m---> 95\u001b[0m         img \u001b[39m=\u001b[39m t(img)\n\u001b[1;32m     96\u001b[0m     \u001b[39mreturn\u001b[39;00m img\n",
      "File \u001b[0;32m~/anaconda3/envs/BVAE/lib/python3.10/site-packages/torch/nn/modules/module.py:1501\u001b[0m, in \u001b[0;36mModule._call_impl\u001b[0;34m(self, *args, **kwargs)\u001b[0m\n\u001b[1;32m   1496\u001b[0m \u001b[39m# If we don't have any hooks, we want to skip the rest of the logic in\u001b[39;00m\n\u001b[1;32m   1497\u001b[0m \u001b[39m# this function, and just call forward.\u001b[39;00m\n\u001b[1;32m   1498\u001b[0m \u001b[39mif\u001b[39;00m \u001b[39mnot\u001b[39;00m (\u001b[39mself\u001b[39m\u001b[39m.\u001b[39m_backward_hooks \u001b[39mor\u001b[39;00m \u001b[39mself\u001b[39m\u001b[39m.\u001b[39m_backward_pre_hooks \u001b[39mor\u001b[39;00m \u001b[39mself\u001b[39m\u001b[39m.\u001b[39m_forward_hooks \u001b[39mor\u001b[39;00m \u001b[39mself\u001b[39m\u001b[39m.\u001b[39m_forward_pre_hooks\n\u001b[1;32m   1499\u001b[0m         \u001b[39mor\u001b[39;00m _global_backward_pre_hooks \u001b[39mor\u001b[39;00m _global_backward_hooks\n\u001b[1;32m   1500\u001b[0m         \u001b[39mor\u001b[39;00m _global_forward_hooks \u001b[39mor\u001b[39;00m _global_forward_pre_hooks):\n\u001b[0;32m-> 1501\u001b[0m     \u001b[39mreturn\u001b[39;00m forward_call(\u001b[39m*\u001b[39;49margs, \u001b[39m*\u001b[39;49m\u001b[39m*\u001b[39;49mkwargs)\n\u001b[1;32m   1502\u001b[0m \u001b[39m# Do not call functions when jit is used\u001b[39;00m\n\u001b[1;32m   1503\u001b[0m full_backward_hooks, non_full_backward_hooks \u001b[39m=\u001b[39m [], []\n",
      "File \u001b[0;32m~/anaconda3/envs/BVAE/lib/python3.10/site-packages/torchvision/transforms/transforms.py:361\u001b[0m, in \u001b[0;36mResize.forward\u001b[0;34m(self, img)\u001b[0m\n\u001b[1;32m    353\u001b[0m \u001b[39mdef\u001b[39;00m \u001b[39mforward\u001b[39m(\u001b[39mself\u001b[39m, img):\n\u001b[1;32m    354\u001b[0m \u001b[39m    \u001b[39m\u001b[39m\"\"\"\u001b[39;00m\n\u001b[1;32m    355\u001b[0m \u001b[39m    Args:\u001b[39;00m\n\u001b[1;32m    356\u001b[0m \u001b[39m        img (PIL Image or Tensor): Image to be scaled.\u001b[39;00m\n\u001b[0;32m   (...)\u001b[0m\n\u001b[1;32m    359\u001b[0m \u001b[39m        PIL Image or Tensor: Rescaled image.\u001b[39;00m\n\u001b[1;32m    360\u001b[0m \u001b[39m    \"\"\"\u001b[39;00m\n\u001b[0;32m--> 361\u001b[0m     \u001b[39mreturn\u001b[39;00m F\u001b[39m.\u001b[39;49mresize(img, \u001b[39mself\u001b[39;49m\u001b[39m.\u001b[39;49msize, \u001b[39mself\u001b[39;49m\u001b[39m.\u001b[39;49minterpolation, \u001b[39mself\u001b[39;49m\u001b[39m.\u001b[39;49mmax_size, \u001b[39mself\u001b[39;49m\u001b[39m.\u001b[39;49mantialias)\n",
      "File \u001b[0;32m~/anaconda3/envs/BVAE/lib/python3.10/site-packages/torchvision/transforms/functional.py:490\u001b[0m, in \u001b[0;36mresize\u001b[0;34m(img, size, interpolation, max_size, antialias)\u001b[0m\n\u001b[1;32m    488\u001b[0m         warnings\u001b[39m.\u001b[39mwarn(\u001b[39m\"\u001b[39m\u001b[39mAnti-alias option is always applied for PIL Image input. Argument antialias is ignored.\u001b[39m\u001b[39m\"\u001b[39m)\n\u001b[1;32m    489\u001b[0m     pil_interpolation \u001b[39m=\u001b[39m pil_modes_mapping[interpolation]\n\u001b[0;32m--> 490\u001b[0m     \u001b[39mreturn\u001b[39;00m F_pil\u001b[39m.\u001b[39;49mresize(img, size\u001b[39m=\u001b[39;49moutput_size, interpolation\u001b[39m=\u001b[39;49mpil_interpolation)\n\u001b[1;32m    492\u001b[0m \u001b[39mreturn\u001b[39;00m F_t\u001b[39m.\u001b[39mresize(img, size\u001b[39m=\u001b[39moutput_size, interpolation\u001b[39m=\u001b[39minterpolation\u001b[39m.\u001b[39mvalue, antialias\u001b[39m=\u001b[39mantialias)\n",
      "File \u001b[0;32m~/anaconda3/envs/BVAE/lib/python3.10/site-packages/torchvision/transforms/_functional_pil.py:250\u001b[0m, in \u001b[0;36mresize\u001b[0;34m(img, size, interpolation)\u001b[0m\n\u001b[1;32m    247\u001b[0m \u001b[39mif\u001b[39;00m \u001b[39mnot\u001b[39;00m (\u001b[39misinstance\u001b[39m(size, \u001b[39mlist\u001b[39m) \u001b[39mand\u001b[39;00m \u001b[39mlen\u001b[39m(size) \u001b[39m==\u001b[39m \u001b[39m2\u001b[39m):\n\u001b[1;32m    248\u001b[0m     \u001b[39mraise\u001b[39;00m \u001b[39mTypeError\u001b[39;00m(\u001b[39mf\u001b[39m\u001b[39m\"\u001b[39m\u001b[39mGot inappropriate size arg: \u001b[39m\u001b[39m{\u001b[39;00msize\u001b[39m}\u001b[39;00m\u001b[39m\"\u001b[39m)\n\u001b[0;32m--> 250\u001b[0m \u001b[39mreturn\u001b[39;00m img\u001b[39m.\u001b[39;49mresize(\u001b[39mtuple\u001b[39;49m(size[::\u001b[39m-\u001b[39;49m\u001b[39m1\u001b[39;49m]), interpolation)\n",
      "File \u001b[0;32m~/anaconda3/envs/BVAE/lib/python3.10/site-packages/PIL/Image.py:2174\u001b[0m, in \u001b[0;36mImage.resize\u001b[0;34m(self, size, resample, box, reducing_gap)\u001b[0m\n\u001b[1;32m   2166\u001b[0m             \u001b[39mself\u001b[39m \u001b[39m=\u001b[39m Image\u001b[39m.\u001b[39mreduce(\u001b[39mself\u001b[39m, factor, box\u001b[39m=\u001b[39mreduce_box)\n\u001b[1;32m   2167\u001b[0m         box \u001b[39m=\u001b[39m (\n\u001b[1;32m   2168\u001b[0m             (box[\u001b[39m0\u001b[39m] \u001b[39m-\u001b[39m reduce_box[\u001b[39m0\u001b[39m]) \u001b[39m/\u001b[39m factor_x,\n\u001b[1;32m   2169\u001b[0m             (box[\u001b[39m1\u001b[39m] \u001b[39m-\u001b[39m reduce_box[\u001b[39m1\u001b[39m]) \u001b[39m/\u001b[39m factor_y,\n\u001b[1;32m   2170\u001b[0m             (box[\u001b[39m2\u001b[39m] \u001b[39m-\u001b[39m reduce_box[\u001b[39m0\u001b[39m]) \u001b[39m/\u001b[39m factor_x,\n\u001b[1;32m   2171\u001b[0m             (box[\u001b[39m3\u001b[39m] \u001b[39m-\u001b[39m reduce_box[\u001b[39m1\u001b[39m]) \u001b[39m/\u001b[39m factor_y,\n\u001b[1;32m   2172\u001b[0m         )\n\u001b[0;32m-> 2174\u001b[0m \u001b[39mreturn\u001b[39;00m \u001b[39mself\u001b[39m\u001b[39m.\u001b[39m_new(\u001b[39mself\u001b[39;49m\u001b[39m.\u001b[39;49mim\u001b[39m.\u001b[39;49mresize(size, resample, box))\n",
      "\u001b[0;31mKeyboardInterrupt\u001b[0m: "
     ]
    }
   ],
   "source": [
    "train, val, test = get_image_stick_dataset(data_path='/home/robot-lab/data/Data/MicroOpener', img_size=img_size, val_mask = val_mask, apply_transforms = apply_transforms)"
   ]
  },
  {
   "cell_type": "code",
   "execution_count": null,
   "metadata": {},
   "outputs": [
    {
     "name": "stdout",
     "output_type": "stream",
     "text": [
      "[-1.84680528e-03  1.88239165e-03  6.56352240e-04  6.61310625e-05\n",
      " -5.19523775e-04  4.96648311e-04  7.79042174e-01]\n",
      "[0.00833277 0.01495058 0.00507645 0.00762441 0.01684678 0.0103782\n",
      " 0.36494638]\n"
     ]
    }
   ],
   "source": [
    "def normalize_labels(dataset):\n",
    "    # Extract the labels from the dataset\n",
    "    labels = [data[1] for data in dataset]\n",
    "\n",
    "    # Convert labels to numpy array for easier calculations\n",
    "    labels_array = np.array(labels)\n",
    "    labels_array = labels_array.reshape(-1, 7)\n",
    "    # Calculate the mean and standard deviation of the labels\n",
    "    mean = np.mean(labels_array, axis=0)\n",
    "    std_dev = np.std(labels_array, axis=0)\n",
    "    labels_array = (labels_array - mean) / std_dev\n",
    "    # Normalize the labels\n",
    "    normalized_labels = [(dataset[i][0], labels_array[i]) for i in range(len(dataset))]\n",
    "\n",
    "    return normalized_labels, mean, std_dev\n",
    "train, mean, std = normalize_labels(train)\n",
    "print(mean) #val_mean = [-1.65969211e-03, 1.78176055e-03, 4.28184121e-04, 1.06313849e-03, -1.69119069e-03, 1.82573215e-05, 6.80866514e-01]\n",
    "print(std) #val_std = [0.00826402, 0.01361875, 0.00387819, 0.00611709, 0.01721554, 0.00971739, 0.39525879]\n",
    "#train_mean = [-1.84680528e-03, 1.88239165e-03, 6.56352240e-04, 6.61310625e-05, -5.19523775e-04, 4.96648311e-04, 7.79042174e-01]\n",
    "#train_std = [0.00833277, 0.01495058, 0.00507645, 0.00762441, 0.01684678, 0.0103782, 0.36494638]"
   ]
  },
  {
   "cell_type": "code",
   "execution_count": null,
   "metadata": {},
   "outputs": [
    {
     "data": {
      "text/plain": [
       "1609"
      ]
     },
     "execution_count": 6,
     "metadata": {},
     "output_type": "execute_result"
    }
   ],
   "source": [
    "len(train)"
   ]
  },
  {
   "cell_type": "code",
   "execution_count": null,
   "metadata": {},
   "outputs": [
    {
     "name": "stdout",
     "output_type": "stream",
     "text": [
      "(1609, 7)\n"
     ]
    },
    {
     "data": {
      "image/png": "[encoded data removed]",
      "text/plain": [
       "<Figure size 640x480 with 1 Axes>"
      ]
     },
     "metadata": {},
     "output_type": "display_data"
    }
   ],
   "source": [
    "labels = [data[1] for data in train]\n",
    "labels_array = np.array(labels)\n",
    "labels_array = labels_array.reshape(-1, 7)\n",
    "print(labels_array.shape)\n",
    "normalizer = NormalizeActions()\n",
    "denormalizer = deNormalizeActions()\n",
    "norm_labels = normalizer(torch.tensor(labels_array).to('cuda')).cpu().numpy()\n",
    "plt.hist(norm_labels[:, 4], bins=20)\n",
    "plt.show()"
   ]
  },
  {
   "cell_type": "markdown",
   "metadata": {},
   "source": [
    "visualize reconstruction"
   ]
  },
  {
   "cell_type": "code",
   "execution_count": null,
   "metadata": {},
   "outputs": [
    {
     "name": "stdout",
     "output_type": "stream",
     "text": [
      "tensor([[-1.8468e-03,  1.8824e-03,  6.5635e-04,  6.6131e-05, -5.1952e-04,\n",
      "          4.9665e-04,  7.7904e-01]], device='cuda:0', grad_fn=<SliceBackward0>)\n"
     ]
    }
   ],
   "source": [
    "original = train[1295][0]\n",
    "originalgpu = original.to('cuda')\n",
    "logitsa = bvae.encoder(originalgpu)[:, :7]\n",
    "print(logitsa)"
   ]
  },
  {
   "cell_type": "code",
   "execution_count": null,
   "metadata": {},
   "outputs": [
    {
     "name": "stdout",
     "output_type": "stream",
     "text": [
      "tensor([[-1.8468e-03,  1.8824e-03,  6.5635e-04,  6.6131e-05, -5.1952e-04,\n",
      "          4.9665e-04,  7.7904e-01]], device='cuda:0', grad_fn=<SliceBackward0>)\n"
     ]
    }
   ],
   "source": [
    "original = train[155][0]\n",
    "originalgpu = original.to('cuda')\n",
    "logitsb = bvae.encoder(originalgpu)[:, :7]\n",
    "print(logitsb)"
   ]
  },
  {
   "cell_type": "code",
   "execution_count": null,
   "metadata": {},
   "outputs": [
    {
     "name": "stdout",
     "output_type": "stream",
     "text": [
      "tensor(0.6516, device='cuda:0')\n",
      "tensor([[[[-0.5914,  0.0000, -0.5928,  ...,  0.0000, -0.7834,  0.0000],\n",
      "          [-0.5997, -0.5953, -0.6050,  ..., -0.7864, -0.7528, -0.7619],\n",
      "          [-0.5713,  0.0000, -0.5854,  ...,  0.0000, -0.7957,  0.0000],\n",
      "          ...,\n",
      "          [ 0.0000,  0.0000,  0.0000,  ..., -0.0772, -0.0763, -0.0508],\n",
      "          [ 0.0000,  0.0000,  0.0000,  ...,  0.0000, -0.0713,  0.0000],\n",
      "          [ 0.0000,  0.0000,  0.0000,  ..., -0.0480, -0.0601, -0.0113]],\n",
      "\n",
      "         [[-0.6388, -0.6262, -0.6444,  ..., -0.7223, -0.7334, -0.6980],\n",
      "          [-0.6195, -0.5873, -0.6213,  ..., -0.7730, -0.7323, -0.7714],\n",
      "          [-0.6102, -0.6092, -0.6280,  ..., -0.7402, -0.7569, -0.7246],\n",
      "          ...,\n",
      "          [ 0.0000,  0.0000,  0.0000,  ..., -0.0585, -0.0358, -0.0354],\n",
      "          [ 0.0000,  0.0000,  0.0000,  ..., -0.0595, -0.0307, -0.0485],\n",
      "          [ 0.0000,  0.0000,  0.0000,  ..., -0.0329, -0.0148, -0.0101]],\n",
      "\n",
      "         [[-0.6098, -0.6124, -0.6187,  ..., -0.7007, -0.7080, -0.7095],\n",
      "          [-0.6259, -0.5888, -0.6273,  ..., -0.6795, -0.6925, -0.6948],\n",
      "          [-0.5938, -0.6058, -0.6114,  ..., -0.7083, -0.7139, -0.7215],\n",
      "          ...,\n",
      "          [ 0.0000,  0.0000,  0.0000,  ..., -0.0692, -0.0578, -0.0516],\n",
      "          [ 0.0000,  0.0000,  0.0000,  ..., -0.0141,  0.0000,  0.0000],\n",
      "          [ 0.0000,  0.0000,  0.0000,  ..., -0.0456, -0.0521, -0.0309]]]],\n",
      "       device='cuda:0', grad_fn=<SubBackward0>)\n"
     ]
    }
   ],
   "source": [
    "reconstructiona = bvae(train[199][0].to('cuda'), 0, return_recon_i=True)\n",
    "reconstructionb = bvae(train[1199][0].to('cuda'), 0, return_recon_i=True)\n",
    "differencebool = (reconstructiona==reconstructionb)\n",
    "difference = reconstructiona-reconstructionb\n",
    "#get percentage of values that are True\n",
    "print(sum(differencebool.flatten())/len(differencebool.flatten()))\n",
    "print(difference)\n",
    "\n"
   ]
  },
  {
   "cell_type": "code",
   "execution_count": null,
   "metadata": {},
   "outputs": [],
   "source": [
    "logits = torch.tensor([[0.0000, 0.0000, 0.0000, 0.0000, 0.0000, 0.0000, 0.7695]], device='cuda:0')"
   ]
  },
  {
   "cell_type": "code",
   "execution_count": null,
   "metadata": {},
   "outputs": [
    {
     "data": {
      "text/plain": [
       "torch.Size([1, 3, 224, 224])"
      ]
     },
     "execution_count": 12,
     "metadata": {},
     "output_type": "execute_result"
    }
   ],
   "source": [
    "reconstruction = bvae.decoder(logits)[:, :3]\n",
    "reconstruction.shape"
   ]
  },
  {
   "cell_type": "code",
   "execution_count": null,
   "metadata": {},
   "outputs": [
    {
     "name": "stdout",
     "output_type": "stream",
     "text": [
      "(224, 224, 3)\n"
     ]
    }
   ],
   "source": [
    "reconstruction = reconstruction - torch.min(reconstruction)\n",
    "reconstruction = reconstruction/torch.max(reconstruction)\n",
    "reconstruction = reconstruction.detach().cpu().numpy()\n",
    "reconstruction = reconstruction.reshape(3, 224, 224)\n",
    "reconstruction = np.transpose(reconstruction, (1, 2, 0))\n",
    "print(reconstruction.shape)"
   ]
  },
  {
   "cell_type": "code",
   "execution_count": null,
   "metadata": {},
   "outputs": [],
   "source": [
    "\n",
    "original = original[0].reshape(224, 224, 3)\n",
    "original = original[:85, :85, :]\n",
    "original = original.numpy()\n",
    "original = original-np.min(original)\n",
    "original = np.round(original/np.max(original)*255)\n",
    "#convert dtype to int\n",
    "original = original.astype(np.uint8)\n"
   ]
  },
  {
   "cell_type": "code",
   "execution_count": null,
   "metadata": {},
   "outputs": [
    {
     "data": {
      "image/png": "[encoded data removed]",
      "text/plain": [
       "<Figure size 640x480 with 1 Axes>"
      ]
     },
     "metadata": {},
     "output_type": "display_data"
    },
    {
     "data": {
      "image/png": "[encoded data removed]",
      "text/plain": [
       "<Figure size 640x480 with 1 Axes>"
      ]
     },
     "metadata": {},
     "output_type": "display_data"
    }
   ],
   "source": [
    "import matplotlib.pyplot as plt\n",
    "import numpy as np\n",
    "\n",
    "# Generate random pixel values between 0 and 255\n",
    "# pixels = np.random.randint(0, 256, size=(28, 28), dtype=np.uint8)\n",
    "\n",
    "# Plotting\n",
    "\n",
    "plt.imshow(reconstruction)  # Display the image\n",
    "plt.axis('off')                  # Turn off axis labels\n",
    "plt.title('Reconstruction')\n",
    "plt.show() \n",
    "plt.imshow(original)  # Display the image\n",
    "plt.axis('off')                  # Turn off axis labels\n",
    "plt.title('Original')       # Title of the plot\n",
    "plt.show()                        # Display the plot\n",
    "\n",
    "#convert to numpy array\n",
    "\n",
    "#get max value of np array\n",
    "    "
   ]
  },
  {
   "cell_type": "code",
   "execution_count": null,
   "metadata": {},
   "outputs": [],
   "source": [
    "class Reshape(nn.Module):\n",
    "    def __init__(self, shape):\n",
    "        super(Reshape, self).__init__()\n",
    "        self.shape = shape\n",
    "\n",
    "    def forward(self, x):\n",
    "        return x.view(*self.shape)"
   ]
  },
  {
   "cell_type": "code",
   "execution_count": null,
   "metadata": {},
   "outputs": [],
   "source": [
    "images = [data[0] for data in train]\n",
    "#convert from shape [{image}, {image}, ...] to torch tensor of shape [num_images, 3, 224, 224]\n",
    "images = torch.cat([image[0] for image in train], dim=0).to('cuda')\n",
    "#get mean rgb values\n",
    "image_means = torch.mean(images, dim=0)\n",
    "image_stds = torch.std(images, dim=0)"
   ]
  },
  {
   "cell_type": "code",
   "execution_count": null,
   "metadata": {},
   "outputs": [],
   "source": [
    "#create a class to normalize the labels given a list of means and stds for each of the 7 values in the labels\n",
    "class NormalizeActions(nn.Module):\n",
    "    def __init__(self):\n",
    "        super(NormalizeActions, self).__init__()\n",
    "        self.means = [-1.84680528e-03, 1.88239165e-03, 6.56352240e-04, 6.61310625e-05, -5.19523775e-04, 4.96648311e-04, 7.79042174e-01]\n",
    "        self.stds = [0.00833277, 0.01495058, 0.00507645, 0.00762441, 0.01684678, 0.0103782, 0.36494638]\n",
    "        #convert to tensor\n",
    "        self.means = torch.tensor(self.means).to('cuda')\n",
    "        self.stds = torch.tensor(self.stds).to('cuda')\n",
    "\n",
    "    def __call__(self, sample):\n",
    "        sample = (sample - self.means) / self.stds\n",
    "        return sample\n",
    "#create a class to denormalize the labels given a list of means and stds for each of the 7 values in the labels\n",
    "class deNormalizeActions(nn.Module):\n",
    "    def __init__(self):\n",
    "        super(deNormalizeActions, self).__init__()\n",
    "        self.means = [-1.84680528e-03, 1.88239165e-03, 6.56352240e-04, 6.61310625e-05, -5.19523775e-04, 4.96648311e-04, 7.79042174e-01]\n",
    "        self.stds = [0.00833277, 0.01495058, 0.00507645, 0.00762441, 0.01684678, 0.0103782, 0.36494638]\n",
    "        #convert to tensor\n",
    "        self.means = torch.tensor(self.means).to('cuda')\n",
    "        self.stds = torch.tensor(self.stds).to('cuda')\n",
    "    def __call__(self, sample):\n",
    "        sample_means = sample[:, :7]\n",
    "        sample_stds = sample[:, 7:]\n",
    "        # print(\"sample shape: \", sample_means.shape, \"sample type: \", sample_means.dtype, \"means shape: \", self.means.shape, \"means type: \", self.means.dtype)\n",
    "        sample_means = (sample_means * self.stds) + self.means\n",
    "        #return sample in its original form by concatenating the means and stds\n",
    "        return torch.cat((sample_means, sample_stds), 1)\n",
    "#normalize images\n",
    "class NormalizeImages(nn.Module):\n",
    "    def __init__(self):\n",
    "        super(NormalizeImages, self).__init__()\n",
    "        #get all images from train dataset\n",
    "        self.means = image_means\n",
    "        self.stds = image_stds\n",
    "\n",
    "    def __call__(self, sample):\n",
    "        sample = (sample - self.means) / self.stds\n",
    "        return sample\n",
    "#denormalize images\n",
    "class deNormalizeImages(nn.Module):\n",
    "    def __init__(self):\n",
    "        super(deNormalizeImages, self).__init__()\n",
    "        #get all images from train dataset\n",
    "        self.means = image_means\n",
    "        self.stds = image_stds\n",
    "\n",
    "    def __call__(self, sample):\n",
    "        sample_means= sample[:, :3]\n",
    "        sample_stds = sample[:, 3:]\n",
    "        sample_means = (sample_means * self.stds) + self.means\n",
    "        return torch.cat((sample_means, sample_stds), 1)"
   ]
  },
  {
   "cell_type": "markdown",
   "metadata": {},
   "source": [
    "Bidirectional VAE"
   ]
  },
  {
   "cell_type": "code",
   "execution_count": null,
   "metadata": {},
   "outputs": [],
   "source": [
    "class BVAE(nn.Module):\n",
    "    def __init__(\n",
    "        self,\n",
    "        image_size=224,\n",
    "        hidden_dim=7,\n",
    "        mid_dim = 28,\n",
    "        channels=3,\n",
    "        num_filters=48,\n",
    "        smooth_l1_loss=False,\n",
    "        kl_div_loss_weight=0.,\n",
    "        normalization=((*((0.5,) * 3), 0), (*((0.5,) * 3), 1))\n",
    "    ):\n",
    "        super().__init__()\n",
    "        # assert math.log2(image_size).is_integer(), 'image size must be a power of 2'\n",
    "        self.channels = channels\n",
    "        self.image_size = image_size\n",
    "        self.hidden_dim = hidden_dim\n",
    "        self.mid_dim = mid_dim\n",
    "        self.num_filters = num_filters\n",
    "\n",
    "        enc_spatial_dim = 2\n",
    "        enc_out_dim = num_filters * enc_spatial_dim * enc_spatial_dim #48*2*2=192\n",
    "        enc_chans = [\n",
    "            channels,\n",
    "            num_filters//4,\n",
    "            num_filters//2,\n",
    "            num_filters,\n",
    "        ]\n",
    "        dec_chans = enc_chans[::-1]\n",
    "        # Encoder layers\n",
    "        self.encoder = nn.Sequential(\n",
    "\n",
    "            NormalizeImages(),\n",
    "\n",
    "            nn.Conv2d(enc_chans[0], enc_chans[1], 2, stride=2, padding=0),\n",
    "            nn.MaxPool2d(kernel_size=2, stride=2),\n",
    "            nn.BatchNorm2d(enc_chans[1]),\n",
    "            nn.LeakyReLU(0.2),\n",
    "\n",
    "            nn.Conv2d(enc_chans[1], enc_chans[1], 2, stride=2, padding=0),\n",
    "\n",
    "            nn.Conv2d(enc_chans[1], enc_chans[2], 2, stride=2, padding=0),\n",
    "            nn.MaxPool2d(kernel_size=2, stride=2, padding=1),\n",
    "            nn.BatchNorm2d(enc_chans[2]),\n",
    "            nn.LeakyReLU(0.2),\n",
    "\n",
    "            nn.Conv2d(enc_chans[2], enc_chans[3], 2, stride=2, padding=0),\n",
    "            nn.MaxPool2d(kernel_size=2, stride=2),\n",
    "            nn.BatchNorm2d(enc_chans[3]),\n",
    "            nn.LeakyReLU(0.2),\n",
    "\n",
    "\n",
    "            nn.Flatten(),\n",
    "            nn.Linear(enc_out_dim, mid_dim), nn.ReLU(),\n",
    "            nn.Linear(mid_dim, 2*hidden_dim), #NO RELU!!!\n",
    "\n",
    "            deNormalizeActions()\n",
    "        \n",
    "        )\n",
    "        #Decoder layers\n",
    "        self.decoder = nn.Sequential(\n",
    "\n",
    "            NormalizeActions(),\n",
    "\n",
    "            nn.Linear(hidden_dim, mid_dim), nn.ReLU(),\n",
    "            nn.Linear(mid_dim, enc_out_dim), nn.LeakyReLU(),\n",
    "            Reshape((-1, num_filters, enc_spatial_dim, enc_spatial_dim)), #[101, 48, 2, 2]\n",
    "\n",
    "            nn.ConvTranspose2d(dec_chans[0], dec_chans[1], 2, stride=2, padding=0), #[101, 24, 8, 8]\n",
    "            nn.Upsample(scale_factor=2, mode='bilinear'), #[101, 48, 4, 4]\n",
    "            nn.BatchNorm2d(dec_chans[1]),\n",
    "            nn.LeakyReLU(0.2),\n",
    "\n",
    "            nn.ConvTranspose2d(dec_chans[1], dec_chans[2], 2, stride=2, padding=0), #[101, 12, 28, 28]\n",
    "            nn.Upsample(scale_factor=14/8, mode='bilinear'), #[101, 24, 14, 14]\n",
    "            nn.BatchNorm2d(dec_chans[2]),\n",
    "            nn.LeakyReLU(0.2),\n",
    "\n",
    "            nn.ConvTranspose2d(dec_chans[2], dec_chans[3]*2, 2, stride=2, padding=0), #[101, 6, 224, 224]\n",
    "            nn.Upsample(scale_factor=4, mode='bilinear'), #[101, 12, 112, 112]\n",
    "            nn.BatchNorm2d(dec_chans[3]*2),\n",
    "            nn.LeakyReLU(0.2),\n",
    "            \n",
    "            deNormalizeImages()\n",
    "        )\n",
    "        \n",
    "        # Calculate the spatial dimensions after encoder layers\n",
    "        \n",
    "        \n",
    "        \n",
    "\n",
    "        self.loss_fn = F.smooth_l1_loss if smooth_l1_loss else F.mse_loss\n",
    "        \n",
    "\n",
    "    def encode(self, img):\n",
    "        enc_out = self.encoder(img)\n",
    "        return enc_out\n",
    "\n",
    "    def decode(self, latent_sample):\n",
    "        out = self.decoder(latent_sample)\n",
    "        return out\n",
    "\n",
    "    def image_reparameterize(self, enc_out, std_constant=0.5):\n",
    "        mean = enc_out[:, :self.hidden_dim]  # shape: [batch_size]\n",
    "        std = enc_out[:, self.hidden_dim:]  # shape: [batch_size]\n",
    "        # std = torch.exp(0.5 * logvar)\n",
    "        eps = torch.randn_like(std)\n",
    "        return (mean + eps*std*std_constant), mean, std\n",
    "\n",
    "    def action_reparameterize(self, dec_out, std_constant=0.5):\n",
    "        mean = dec_out[:, :self.channels]\n",
    "        std = dec_out[:, self.channels:]\n",
    "        # std = torch.exp(0.5 * logvar)\n",
    "        eps = torch.randn_like(std)\n",
    "        return (mean + eps*std*std_constant), mean, std\n",
    "\n",
    "    def load_model(self, path):\n",
    "        self.encoder.load_state_dict(torch.load(path+\"_enc.pth\"))\n",
    "        self.decoder.load_state_dict(torch.load(path+\"_dec.pth\"))\n",
    "    def save_model(self, path):\n",
    "        torch.save(self.encoder.state_dict(), path+\"_enc.pth\")\n",
    "        torch.save(self.decoder.state_dict(), path+\"_dec.pth\")\n",
    "    def forward(self, img, act, return_recon_i=False, return_logits_i=False):\n",
    "        normalize_image = NormalizeImages()\n",
    "        denormalize_image = deNormalizeImages()\n",
    "        normalize_action = NormalizeActions()\n",
    "        denormalize_action = deNormalizeActions()\n",
    "        if (not return_recon_i) and (not return_logits_i):\n",
    "            \n",
    "            dec_out = self.decode(act)\n",
    "            latent_sample_a, latent_mean_a, latent_std = self.action_reparameterize(dec_out)\n",
    "            reconstructed_act = self.encode(latent_sample_a)\n",
    "            reconstructed_act, w, q = self.image_reparameterize(reconstructed_act)\n",
    "            recon_loss_a = self.loss_fn(normalize_action(act), normalize_action(reconstructed_act))\n",
    "            # KL divergence\n",
    "            latent_logvar = 2 * torch.log(latent_std + 1e-8)  # Adding a small epsilon (1e-8) for numerical stability\n",
    "            kl_div_a = -0.5 * torch.sum(1 + latent_logvar - latent_mean_a.pow(2) - latent_logvar.exp())\n",
    "\n",
    "        \n",
    "        enc_out = self.encode(img)\n",
    "        latent_sample_i, latent_mean_i, latent_std = self.image_reparameterize(enc_out)\n",
    "        if return_logits_i:\n",
    "            return latent_sample_i\n",
    "        reconstructed_img = self.decode(latent_sample_i)\n",
    "        reconstructed_img, w, q = self.action_reparameterize(reconstructed_img)\n",
    "        if return_recon_i:\n",
    "            return reconstructed_img\n",
    "\n",
    "        # # Reconstruction loss\n",
    "        recon_loss_i = self.loss_fn(normalize_image(img), normalize_image(reconstructed_img))\n",
    "        \n",
    "        # # KL divergence\n",
    "        # # print(latent_mean.shape, latent_std.shape)\n",
    "        latent_logvar = 2 * torch.log(latent_std + 1e-8)  # Adding a small epsilon (1e-8) for numerical stability\n",
    "        # # print(latent_logvar.shape)\n",
    "        kl_div_i = -0.5 * torch.sum(1 + latent_logvar - latent_mean_i.pow(2) - latent_logvar.exp())\n",
    "        # print(kl_div_i.shape)\n",
    "        #Supervised loss\n",
    "        i_supervised_loss = F.mse_loss(normalize_action(latent_mean_i), normalize_action(act))\n",
    "        # i_supervised_loss = F.mse_loss(latent_mean_i, act)\n",
    "        a_supervised_loss = F.mse_loss(normalize_image(latent_mean_a), normalize_image(img))\n",
    "        \n",
    "        # loss = recon_loss_i #+a_supervised_loss\n",
    "\n",
    "        return i_supervised_loss, recon_loss_i, recon_loss_a, kl_div_i, kl_div_a, latent_sample_i, latent_sample_a, a_supervised_loss"
   ]
  },
  {
   "cell_type": "code",
   "execution_count": null,
   "metadata": {},
   "outputs": [],
   "source": [
    "bs = 128\n",
    "bvae = BVAE()\n",
    "enc_optimizer = torch.optim.Adam(bvae.encoder.parameters(), lr=3e-3)\n",
    "dec_optimizer = torch.optim.Adam(bvae.decoder.parameters(), lr=3e-3)\n",
    "optimizer = torch.optim.Adam(bvae.parameters(), lr=3e-3)\n",
    "train_loader = DataLoader(train, batch_size=bs, shuffle=True)\n",
    "bvae=bvae.to('cuda')"
   ]
  },
  {
   "cell_type": "code",
   "execution_count": null,
   "metadata": {},
   "outputs": [],
   "source": [
    "bvae.load_model('goodmodel')"
   ]
  },
  {
   "cell_type": "code",
   "execution_count": null,
   "metadata": {},
   "outputs": [
    {
     "name": "stderr",
     "output_type": "stream",
     "text": [
      "Failed to detect the name of this notebook, you can set it manually with the WANDB_NOTEBOOK_NAME environment variable to enable code saving.\n"
     ]
    },
    {
     "name": "stderr",
     "output_type": "stream",
     "text": [
      "\u001b[34m\u001b[1mwandb\u001b[0m: Currently logged in as: \u001b[33mpaul-nieuwerburgh\u001b[0m. Use \u001b[1m`wandb login --relogin`\u001b[0m to force relogin\n"
     ]
    },
    {
     "data": {
      "text/html": [
       "wandb version 0.15.7 is available!  To upgrade, please run:\n",
       " $ pip install wandb --upgrade"
      ],
      "text/plain": [
       "<IPython.core.display.HTML object>"
      ]
     },
     "metadata": {},
     "output_type": "display_data"
    },
    {
     "data": {
      "text/html": [
       "Tracking run with wandb version 0.15.5"
      ],
      "text/plain": [
       "<IPython.core.display.HTML object>"
      ]
     },
     "metadata": {},
     "output_type": "display_data"
    },
    {
     "data": {
      "text/html": [
       "Run data is saved locally in <code>/home/robot-lab/Documents/wandb/run-20230727_114839-3j6dmzpz</code>"
      ],
      "text/plain": [
       "<IPython.core.display.HTML object>"
      ]
     },
     "metadata": {},
     "output_type": "display_data"
    },
    {
     "data": {
      "text/html": [
       "Syncing run <strong><a href='https://wandb.ai/paul-nieuwerburgh/BVAE/runs/3j6dmzpz' target=\"_blank\">comfy-shadow-60</a></strong> to <a href='https://wandb.ai/paul-nieuwerburgh/BVAE' target=\"_blank\">Weights & Biases</a> (<a href='https://wandb.me/run' target=\"_blank\">docs</a>)<br/>"
      ],
      "text/plain": [
       "<IPython.core.display.HTML object>"
      ]
     },
     "metadata": {},
     "output_type": "display_data"
    },
    {
     "data": {
      "text/html": [
       " View project at <a href='https://wandb.ai/paul-nieuwerburgh/BVAE' target=\"_blank\">https://wandb.ai/paul-nieuwerburgh/BVAE</a>"
      ],
      "text/plain": [
       "<IPython.core.display.HTML object>"
      ]
     },
     "metadata": {},
     "output_type": "display_data"
    },
    {
     "data": {
      "text/html": [
       " View run at <a href='https://wandb.ai/paul-nieuwerburgh/BVAE/runs/3j6dmzpz' target=\"_blank\">https://wandb.ai/paul-nieuwerburgh/BVAE/runs/3j6dmzpz</a>"
      ],
      "text/plain": [
       "<IPython.core.display.HTML object>"
      ]
     },
     "metadata": {},
     "output_type": "display_data"
    }
   ],
   "source": [
    "run = wandb.init(project='BVAE')"
   ]
  },
  {
   "cell_type": "code",
   "execution_count": null,
   "metadata": {},
   "outputs": [
    {
     "data": {
      "text/html": [
       "Waiting for W&B process to finish... <strong style=\"color:green\">(success).</strong>"
      ],
      "text/plain": [
       "<IPython.core.display.HTML object>"
      ]
     },
     "metadata": {},
     "output_type": "display_data"
    },
    {
     "data": {
      "application/vnd.jupyter.widget-view+json": {
       "model_id": "fed7b2f31df74341a59f43b4c9a2af40",
       "version_major": 2,
       "version_minor": 0
      },
      "text/plain": [
       "VBox(children=(Label(value='0.003 MB of 0.819 MB uploaded (0.000 MB deduped)\\r'), FloatProgress(value=0.004202…"
      ]
     },
     "metadata": {},
     "output_type": "display_data"
    }
   ],
   "source": [
    "run.finish()"
   ]
  },
  {
   "cell_type": "code",
   "execution_count": null,
   "metadata": {},
   "outputs": [
    {
     "name": "stdout",
     "output_type": "stream",
     "text": [
      "epoch: 1 loss: tensor(0.1292, device='cuda:0', grad_fn=<MseLossBackward0>) tensor(0.5604, device='cuda:0', grad_fn=<MseLossBackward0>) tensor(nan, device='cuda:0', grad_fn=<MulBackward0>) tensor(0.1292, device='cuda:0', grad_fn=<MseLossBackward0>) tensor(0.0611, device='cuda:0', grad_fn=<MseLossBackward0>) tensor(nan, device='cuda:0', grad_fn=<MulBackward0>) tensor(0.6415, device='cuda:0', grad_fn=<MseLossBackward0>)\n",
      "epoch: 2 loss: tensor(0.1333, device='cuda:0', grad_fn=<MseLossBackward0>) tensor(0.5281, device='cuda:0', grad_fn=<MseLossBackward0>) tensor(nan, device='cuda:0', grad_fn=<MulBackward0>) tensor(0.1333, device='cuda:0', grad_fn=<MseLossBackward0>) tensor(0.0691, device='cuda:0', grad_fn=<MseLossBackward0>) tensor(nan, device='cuda:0', grad_fn=<MulBackward0>) tensor(0.6655, device='cuda:0', grad_fn=<MseLossBackward0>)\n",
      "epoch: 3 loss: tensor(0.1480, device='cuda:0', grad_fn=<MseLossBackward0>) tensor(0.5619, device='cuda:0', grad_fn=<MseLossBackward0>) tensor(nan, device='cuda:0', grad_fn=<MulBackward0>) tensor(0.1480, device='cuda:0', grad_fn=<MseLossBackward0>) tensor(0.0655, device='cuda:0', grad_fn=<MseLossBackward0>) tensor(nan, device='cuda:0', grad_fn=<MulBackward0>) tensor(0.7023, device='cuda:0', grad_fn=<MseLossBackward0>)\n",
      "epoch: 4 loss: tensor(0.1526, device='cuda:0', grad_fn=<MseLossBackward0>) tensor(0.5694, device='cuda:0', grad_fn=<MseLossBackward0>) tensor(nan, device='cuda:0', grad_fn=<MulBackward0>) tensor(0.1526, device='cuda:0', grad_fn=<MseLossBackward0>) tensor(0.0728, device='cuda:0', grad_fn=<MseLossBackward0>) tensor(nan, device='cuda:0', grad_fn=<MulBackward0>) tensor(0.7262, device='cuda:0', grad_fn=<MseLossBackward0>)\n",
      "epoch: 5 loss: tensor(0.1522, device='cuda:0', grad_fn=<MseLossBackward0>) tensor(0.5390, device='cuda:0', grad_fn=<MseLossBackward0>) tensor(nan, device='cuda:0', grad_fn=<MulBackward0>) tensor(0.1522, device='cuda:0', grad_fn=<MseLossBackward0>) tensor(0.0793, device='cuda:0', grad_fn=<MseLossBackward0>) tensor(nan, device='cuda:0', grad_fn=<MulBackward0>) tensor(0.6843, device='cuda:0', grad_fn=<MseLossBackward0>)\n",
      "epoch: 6 loss: tensor(0.1490, device='cuda:0', grad_fn=<MseLossBackward0>) tensor(0.5600, device='cuda:0', grad_fn=<MseLossBackward0>) tensor(nan, device='cuda:0', grad_fn=<MulBackward0>) tensor(0.1490, device='cuda:0', grad_fn=<MseLossBackward0>) tensor(0.0951, device='cuda:0', grad_fn=<MseLossBackward0>) tensor(nan, device='cuda:0', grad_fn=<MulBackward0>) tensor(0.6889, device='cuda:0', grad_fn=<MseLossBackward0>)\n",
      "epoch: 7 loss: tensor(0.1254, device='cuda:0', grad_fn=<MseLossBackward0>) tensor(0.5772, device='cuda:0', grad_fn=<MseLossBackward0>) tensor(nan, device='cuda:0', grad_fn=<MulBackward0>) tensor(0.1254, device='cuda:0', grad_fn=<MseLossBackward0>) tensor(0.0643, device='cuda:0', grad_fn=<MseLossBackward0>) tensor(nan, device='cuda:0', grad_fn=<MulBackward0>) tensor(0.7012, device='cuda:0', grad_fn=<MseLossBackward0>)\n",
      "epoch: 8 loss: tensor(0.1466, device='cuda:0', grad_fn=<MseLossBackward0>) tensor(0.5834, device='cuda:0', grad_fn=<MseLossBackward0>) tensor(nan, device='cuda:0', grad_fn=<MulBackward0>) tensor(0.1466, device='cuda:0', grad_fn=<MseLossBackward0>) tensor(0.0961, device='cuda:0', grad_fn=<MseLossBackward0>) tensor(nan, device='cuda:0', grad_fn=<MulBackward0>) tensor(0.7189, device='cuda:0', grad_fn=<MseLossBackward0>)\n",
      "epoch: 9 loss: tensor(0.1461, device='cuda:0', grad_fn=<MseLossBackward0>) tensor(0.4913, device='cuda:0', grad_fn=<MseLossBackward0>) tensor(nan, device='cuda:0', grad_fn=<MulBackward0>) tensor(0.1461, device='cuda:0', grad_fn=<MseLossBackward0>) tensor(0.0544, device='cuda:0', grad_fn=<MseLossBackward0>) tensor(nan, device='cuda:0', grad_fn=<MulBackward0>) tensor(0.5949, device='cuda:0', grad_fn=<MseLossBackward0>)\n",
      "epoch: 10 loss: tensor(0.1288, device='cuda:0', grad_fn=<MseLossBackward0>) tensor(0.5062, device='cuda:0', grad_fn=<MseLossBackward0>) tensor(nan, device='cuda:0', grad_fn=<MulBackward0>) tensor(0.1288, device='cuda:0', grad_fn=<MseLossBackward0>) tensor(0.0499, device='cuda:0', grad_fn=<MseLossBackward0>) tensor(nan, device='cuda:0', grad_fn=<MulBackward0>) tensor(0.6574, device='cuda:0', grad_fn=<MseLossBackward0>)\n",
      "epoch: 11 loss: tensor(0.1254, device='cuda:0', grad_fn=<MseLossBackward0>) tensor(0.5029, device='cuda:0', grad_fn=<MseLossBackward0>) tensor(nan, device='cuda:0', grad_fn=<MulBackward0>) tensor(0.1254, device='cuda:0', grad_fn=<MseLossBackward0>) tensor(0.0823, device='cuda:0', grad_fn=<MseLossBackward0>) tensor(nan, device='cuda:0', grad_fn=<MulBackward0>) tensor(0.5861, device='cuda:0', grad_fn=<MseLossBackward0>)\n",
      "epoch: 12 loss: tensor(0.1442, device='cuda:0', grad_fn=<MseLossBackward0>) tensor(0.4982, device='cuda:0', grad_fn=<MseLossBackward0>) tensor(nan, device='cuda:0', grad_fn=<MulBackward0>) tensor(0.1442, device='cuda:0', grad_fn=<MseLossBackward0>) tensor(0.0609, device='cuda:0', grad_fn=<MseLossBackward0>) tensor(nan, device='cuda:0', grad_fn=<MulBackward0>) tensor(0.6670, device='cuda:0', grad_fn=<MseLossBackward0>)\n",
      "epoch: 13 loss: tensor(0.1440, device='cuda:0', grad_fn=<MseLossBackward0>) tensor(0.5193, device='cuda:0', grad_fn=<MseLossBackward0>) tensor(nan, device='cuda:0', grad_fn=<MulBackward0>) tensor(0.1440, device='cuda:0', grad_fn=<MseLossBackward0>) tensor(0.0848, device='cuda:0', grad_fn=<MseLossBackward0>) tensor(nan, device='cuda:0', grad_fn=<MulBackward0>) tensor(0.6339, device='cuda:0', grad_fn=<MseLossBackward0>)\n",
      "epoch: 14 loss: tensor(0.1692, device='cuda:0', grad_fn=<MseLossBackward0>) tensor(0.6210, device='cuda:0', grad_fn=<MseLossBackward0>) tensor(nan, device='cuda:0', grad_fn=<MulBackward0>) tensor(0.1692, device='cuda:0', grad_fn=<MseLossBackward0>) tensor(0.0821, device='cuda:0', grad_fn=<MseLossBackward0>) tensor(nan, device='cuda:0', grad_fn=<MulBackward0>) tensor(0.7595, device='cuda:0', grad_fn=<MseLossBackward0>)\n",
      "epoch: 15 loss: tensor(0.1674, device='cuda:0', grad_fn=<MseLossBackward0>) tensor(0.5270, device='cuda:0', grad_fn=<MseLossBackward0>) tensor(nan, device='cuda:0', grad_fn=<MulBackward0>) tensor(0.1674, device='cuda:0', grad_fn=<MseLossBackward0>) tensor(0.0852, device='cuda:0', grad_fn=<MseLossBackward0>) tensor(nan, device='cuda:0', grad_fn=<MulBackward0>) tensor(0.6700, device='cuda:0', grad_fn=<MseLossBackward0>)\n",
      "epoch: 16 loss: tensor(0.1715, device='cuda:0', grad_fn=<MseLossBackward0>) tensor(0.5385, device='cuda:0', grad_fn=<MseLossBackward0>) tensor(nan, device='cuda:0', grad_fn=<MulBackward0>) tensor(0.1715, device='cuda:0', grad_fn=<MseLossBackward0>) tensor(0.0660, device='cuda:0', grad_fn=<MseLossBackward0>) tensor(nan, device='cuda:0', grad_fn=<MulBackward0>) tensor(0.6941, device='cuda:0', grad_fn=<MseLossBackward0>)\n",
      "epoch: 17 loss: tensor(0.1422, device='cuda:0', grad_fn=<MseLossBackward0>) tensor(0.5716, device='cuda:0', grad_fn=<MseLossBackward0>) tensor(nan, device='cuda:0', grad_fn=<MulBackward0>) tensor(0.1422, device='cuda:0', grad_fn=<MseLossBackward0>) tensor(0.0591, device='cuda:0', grad_fn=<MseLossBackward0>) tensor(nan, device='cuda:0', grad_fn=<MulBackward0>) tensor(0.7933, device='cuda:0', grad_fn=<MseLossBackward0>)\n",
      "epoch: 18 loss: tensor(0.1585, device='cuda:0', grad_fn=<MseLossBackward0>) tensor(0.5782, device='cuda:0', grad_fn=<MseLossBackward0>) tensor(nan, device='cuda:0', grad_fn=<MulBackward0>) tensor(0.1585, device='cuda:0', grad_fn=<MseLossBackward0>) tensor(0.0784, device='cuda:0', grad_fn=<MseLossBackward0>) tensor(nan, device='cuda:0', grad_fn=<MulBackward0>) tensor(0.8019, device='cuda:0', grad_fn=<MseLossBackward0>)\n",
      "epoch: 19 loss: tensor(0.1423, device='cuda:0', grad_fn=<MseLossBackward0>) tensor(0.5236, device='cuda:0', grad_fn=<MseLossBackward0>) tensor(nan, device='cuda:0', grad_fn=<MulBackward0>) tensor(0.1423, device='cuda:0', grad_fn=<MseLossBackward0>) tensor(0.0662, device='cuda:0', grad_fn=<MseLossBackward0>) tensor(nan, device='cuda:0', grad_fn=<MulBackward0>) tensor(0.6348, device='cuda:0', grad_fn=<MseLossBackward0>)\n",
      "epoch: 20 loss: tensor(0.1684, device='cuda:0', grad_fn=<MseLossBackward0>) tensor(0.5816, device='cuda:0', grad_fn=<MseLossBackward0>) tensor(nan, device='cuda:0', grad_fn=<MulBackward0>) tensor(0.1684, device='cuda:0', grad_fn=<MseLossBackward0>) tensor(0.0742, device='cuda:0', grad_fn=<MseLossBackward0>) tensor(nan, device='cuda:0', grad_fn=<MulBackward0>) tensor(0.7375, device='cuda:0', grad_fn=<MseLossBackward0>)\n",
      "epoch: 21 loss: tensor(0.1527, device='cuda:0', grad_fn=<MseLossBackward0>) tensor(0.5249, device='cuda:0', grad_fn=<MseLossBackward0>) tensor(nan, device='cuda:0', grad_fn=<MulBackward0>) tensor(0.1527, device='cuda:0', grad_fn=<MseLossBackward0>) tensor(0.0822, device='cuda:0', grad_fn=<MseLossBackward0>) tensor(nan, device='cuda:0', grad_fn=<MulBackward0>) tensor(0.6460, device='cuda:0', grad_fn=<MseLossBackward0>)\n",
      "epoch: 22 loss: tensor(0.1508, device='cuda:0', grad_fn=<MseLossBackward0>) tensor(0.5834, device='cuda:0', grad_fn=<MseLossBackward0>) tensor(nan, device='cuda:0', grad_fn=<MulBackward0>) tensor(0.1508, device='cuda:0', grad_fn=<MseLossBackward0>) tensor(0.0875, device='cuda:0', grad_fn=<MseLossBackward0>) tensor(nan, device='cuda:0', grad_fn=<MulBackward0>) tensor(0.7474, device='cuda:0', grad_fn=<MseLossBackward0>)\n",
      "epoch: 23 loss: tensor(0.1508, device='cuda:0', grad_fn=<MseLossBackward0>) tensor(0.5567, device='cuda:0', grad_fn=<MseLossBackward0>) tensor(nan, device='cuda:0', grad_fn=<MulBackward0>) tensor(0.1508, device='cuda:0', grad_fn=<MseLossBackward0>) tensor(0.0741, device='cuda:0', grad_fn=<MseLossBackward0>) tensor(nan, device='cuda:0', grad_fn=<MulBackward0>) tensor(0.6871, device='cuda:0', grad_fn=<MseLossBackward0>)\n",
      "epoch: 24 loss: tensor(0.1112, device='cuda:0', grad_fn=<MseLossBackward0>) tensor(0.4923, device='cuda:0', grad_fn=<MseLossBackward0>) tensor(nan, device='cuda:0', grad_fn=<MulBackward0>) tensor(0.1112, device='cuda:0', grad_fn=<MseLossBackward0>) tensor(0.0679, device='cuda:0', grad_fn=<MseLossBackward0>) tensor(nan, device='cuda:0', grad_fn=<MulBackward0>) tensor(0.5979, device='cuda:0', grad_fn=<MseLossBackward0>)\n",
      "epoch: 25 loss: tensor(0.1273, device='cuda:0', grad_fn=<MseLossBackward0>) tensor(0.5176, device='cuda:0', grad_fn=<MseLossBackward0>) tensor(nan, device='cuda:0', grad_fn=<MulBackward0>) tensor(0.1273, device='cuda:0', grad_fn=<MseLossBackward0>) tensor(0.0718, device='cuda:0', grad_fn=<MseLossBackward0>) tensor(nan, device='cuda:0', grad_fn=<MulBackward0>) tensor(0.6253, device='cuda:0', grad_fn=<MseLossBackward0>)\n",
      "epoch: 26 loss: tensor(0.1301, device='cuda:0', grad_fn=<MseLossBackward0>) tensor(0.5358, device='cuda:0', grad_fn=<MseLossBackward0>) tensor(nan, device='cuda:0', grad_fn=<MulBackward0>) tensor(0.1301, device='cuda:0', grad_fn=<MseLossBackward0>) tensor(0.0641, device='cuda:0', grad_fn=<MseLossBackward0>) tensor(nan, device='cuda:0', grad_fn=<MulBackward0>) tensor(0.6932, device='cuda:0', grad_fn=<MseLossBackward0>)\n",
      "epoch: 27 loss: tensor(0.1179, device='cuda:0', grad_fn=<MseLossBackward0>) tensor(0.4965, device='cuda:0', grad_fn=<MseLossBackward0>) tensor(nan, device='cuda:0', grad_fn=<MulBackward0>) tensor(0.1179, device='cuda:0', grad_fn=<MseLossBackward0>) tensor(0.0605, device='cuda:0', grad_fn=<MseLossBackward0>) tensor(nan, device='cuda:0', grad_fn=<MulBackward0>) tensor(0.6164, device='cuda:0', grad_fn=<MseLossBackward0>)\n",
      "epoch: 28 loss: tensor(0.1219, device='cuda:0', grad_fn=<MseLossBackward0>) tensor(0.4876, device='cuda:0', grad_fn=<MseLossBackward0>) tensor(nan, device='cuda:0', grad_fn=<MulBackward0>) tensor(0.1219, device='cuda:0', grad_fn=<MseLossBackward0>) tensor(0.0616, device='cuda:0', grad_fn=<MseLossBackward0>) tensor(nan, device='cuda:0', grad_fn=<MulBackward0>) tensor(0.6352, device='cuda:0', grad_fn=<MseLossBackward0>)\n",
      "epoch: 29 loss: tensor(0.1339, device='cuda:0', grad_fn=<MseLossBackward0>) tensor(0.5353, device='cuda:0', grad_fn=<MseLossBackward0>) tensor(nan, device='cuda:0', grad_fn=<MulBackward0>) tensor(0.1339, device='cuda:0', grad_fn=<MseLossBackward0>) tensor(0.0755, device='cuda:0', grad_fn=<MseLossBackward0>) tensor(nan, device='cuda:0', grad_fn=<MulBackward0>) tensor(0.6899, device='cuda:0', grad_fn=<MseLossBackward0>)\n",
      "epoch: 30 loss: tensor(0.1381, device='cuda:0', grad_fn=<MseLossBackward0>) tensor(0.5225, device='cuda:0', grad_fn=<MseLossBackward0>) tensor(nan, device='cuda:0', grad_fn=<MulBackward0>) tensor(0.1381, device='cuda:0', grad_fn=<MseLossBackward0>) tensor(0.0691, device='cuda:0', grad_fn=<MseLossBackward0>) tensor(nan, device='cuda:0', grad_fn=<MulBackward0>) tensor(0.6547, device='cuda:0', grad_fn=<MseLossBackward0>)\n",
      "epoch: 31 loss: tensor(0.1795, device='cuda:0', grad_fn=<MseLossBackward0>) tensor(0.5527, device='cuda:0', grad_fn=<MseLossBackward0>) tensor(nan, device='cuda:0', grad_fn=<MulBackward0>) tensor(0.1795, device='cuda:0', grad_fn=<MseLossBackward0>) tensor(0.0664, device='cuda:0', grad_fn=<MseLossBackward0>) tensor(nan, device='cuda:0', grad_fn=<MulBackward0>) tensor(0.7255, device='cuda:0', grad_fn=<MseLossBackward0>)\n",
      "epoch: 32 loss: tensor(0.1370, device='cuda:0', grad_fn=<MseLossBackward0>) tensor(0.5444, device='cuda:0', grad_fn=<MseLossBackward0>) tensor(nan, device='cuda:0', grad_fn=<MulBackward0>) tensor(0.1370, device='cuda:0', grad_fn=<MseLossBackward0>) tensor(0.0635, device='cuda:0', grad_fn=<MseLossBackward0>) tensor(nan, device='cuda:0', grad_fn=<MulBackward0>) tensor(0.7050, device='cuda:0', grad_fn=<MseLossBackward0>)\n",
      "epoch: 33 loss: tensor(0.1342, device='cuda:0', grad_fn=<MseLossBackward0>) tensor(0.5198, device='cuda:0', grad_fn=<MseLossBackward0>) tensor(nan, device='cuda:0', grad_fn=<MulBackward0>) tensor(0.1342, device='cuda:0', grad_fn=<MseLossBackward0>) tensor(0.0700, device='cuda:0', grad_fn=<MseLossBackward0>) tensor(nan, device='cuda:0', grad_fn=<MulBackward0>) tensor(0.6089, device='cuda:0', grad_fn=<MseLossBackward0>)\n",
      "epoch: 34 loss: tensor(0.1436, device='cuda:0', grad_fn=<MseLossBackward0>) tensor(0.5184, device='cuda:0', grad_fn=<MseLossBackward0>) tensor(nan, device='cuda:0', grad_fn=<MulBackward0>) tensor(0.1436, device='cuda:0', grad_fn=<MseLossBackward0>) tensor(0.0631, device='cuda:0', grad_fn=<MseLossBackward0>) tensor(nan, device='cuda:0', grad_fn=<MulBackward0>) tensor(0.6271, device='cuda:0', grad_fn=<MseLossBackward0>)\n",
      "epoch: 35 loss: tensor(0.1371, device='cuda:0', grad_fn=<MseLossBackward0>) tensor(0.5479, device='cuda:0', grad_fn=<MseLossBackward0>) tensor(nan, device='cuda:0', grad_fn=<MulBackward0>) tensor(0.1371, device='cuda:0', grad_fn=<MseLossBackward0>) tensor(0.0609, device='cuda:0', grad_fn=<MseLossBackward0>) tensor(nan, device='cuda:0', grad_fn=<MulBackward0>) tensor(0.6138, device='cuda:0', grad_fn=<MseLossBackward0>)\n",
      "epoch: 36 loss: tensor(0.1376, device='cuda:0', grad_fn=<MseLossBackward0>) tensor(0.5388, device='cuda:0', grad_fn=<MseLossBackward0>) tensor(nan, device='cuda:0', grad_fn=<MulBackward0>) tensor(0.1376, device='cuda:0', grad_fn=<MseLossBackward0>) tensor(0.0789, device='cuda:0', grad_fn=<MseLossBackward0>) tensor(nan, device='cuda:0', grad_fn=<MulBackward0>) tensor(0.6427, device='cuda:0', grad_fn=<MseLossBackward0>)\n",
      "epoch: 37 loss: tensor(0.1372, device='cuda:0', grad_fn=<MseLossBackward0>) tensor(0.5383, device='cuda:0', grad_fn=<MseLossBackward0>) tensor(nan, device='cuda:0', grad_fn=<MulBackward0>) tensor(0.1372, device='cuda:0', grad_fn=<MseLossBackward0>) tensor(0.0743, device='cuda:0', grad_fn=<MseLossBackward0>) tensor(nan, device='cuda:0', grad_fn=<MulBackward0>) tensor(0.6980, device='cuda:0', grad_fn=<MseLossBackward0>)\n",
      "epoch: 38 loss: tensor(0.1333, device='cuda:0', grad_fn=<MseLossBackward0>) tensor(0.5152, device='cuda:0', grad_fn=<MseLossBackward0>) tensor(nan, device='cuda:0', grad_fn=<MulBackward0>) tensor(0.1333, device='cuda:0', grad_fn=<MseLossBackward0>) tensor(0.0618, device='cuda:0', grad_fn=<MseLossBackward0>) tensor(nan, device='cuda:0', grad_fn=<MulBackward0>) tensor(0.6004, device='cuda:0', grad_fn=<MseLossBackward0>)\n",
      "epoch: 39 loss: tensor(0.1471, device='cuda:0', grad_fn=<MseLossBackward0>) tensor(0.5581, device='cuda:0', grad_fn=<MseLossBackward0>) tensor(nan, device='cuda:0', grad_fn=<MulBackward0>) tensor(0.1471, device='cuda:0', grad_fn=<MseLossBackward0>) tensor(0.0703, device='cuda:0', grad_fn=<MseLossBackward0>) tensor(nan, device='cuda:0', grad_fn=<MulBackward0>) tensor(0.6968, device='cuda:0', grad_fn=<MseLossBackward0>)\n",
      "epoch: 40 loss: tensor(0.1610, device='cuda:0', grad_fn=<MseLossBackward0>) tensor(0.5515, device='cuda:0', grad_fn=<MseLossBackward0>) tensor(nan, device='cuda:0', grad_fn=<MulBackward0>) tensor(0.1610, device='cuda:0', grad_fn=<MseLossBackward0>) tensor(0.0652, device='cuda:0', grad_fn=<MseLossBackward0>) tensor(nan, device='cuda:0', grad_fn=<MulBackward0>) tensor(0.6717, device='cuda:0', grad_fn=<MseLossBackward0>)\n",
      "epoch: 41 loss: tensor(0.1482, device='cuda:0', grad_fn=<MseLossBackward0>) tensor(0.5380, device='cuda:0', grad_fn=<MseLossBackward0>) tensor(nan, device='cuda:0', grad_fn=<MulBackward0>) tensor(0.1482, device='cuda:0', grad_fn=<MseLossBackward0>) tensor(0.0712, device='cuda:0', grad_fn=<MseLossBackward0>) tensor(nan, device='cuda:0', grad_fn=<MulBackward0>) tensor(0.6112, device='cuda:0', grad_fn=<MseLossBackward0>)\n",
      "epoch: 42 loss: tensor(0.1264, device='cuda:0', grad_fn=<MseLossBackward0>) tensor(0.5329, device='cuda:0', grad_fn=<MseLossBackward0>) tensor(nan, device='cuda:0', grad_fn=<MulBackward0>) tensor(0.1264, device='cuda:0', grad_fn=<MseLossBackward0>) tensor(0.0602, device='cuda:0', grad_fn=<MseLossBackward0>) tensor(nan, device='cuda:0', grad_fn=<MulBackward0>) tensor(0.6477, device='cuda:0', grad_fn=<MseLossBackward0>)\n",
      "epoch: 43 loss: tensor(0.1159, device='cuda:0', grad_fn=<MseLossBackward0>) tensor(0.5353, device='cuda:0', grad_fn=<MseLossBackward0>) tensor(nan, device='cuda:0', grad_fn=<MulBackward0>) tensor(0.1159, device='cuda:0', grad_fn=<MseLossBackward0>) tensor(0.0552, device='cuda:0', grad_fn=<MseLossBackward0>) tensor(nan, device='cuda:0', grad_fn=<MulBackward0>) tensor(0.6593, device='cuda:0', grad_fn=<MseLossBackward0>)\n",
      "epoch: 44 loss: tensor(0.1405, device='cuda:0', grad_fn=<MseLossBackward0>) tensor(0.5071, device='cuda:0', grad_fn=<MseLossBackward0>) tensor(nan, device='cuda:0', grad_fn=<MulBackward0>) tensor(0.1405, device='cuda:0', grad_fn=<MseLossBackward0>) tensor(0.0735, device='cuda:0', grad_fn=<MseLossBackward0>) tensor(nan, device='cuda:0', grad_fn=<MulBackward0>) tensor(0.6208, device='cuda:0', grad_fn=<MseLossBackward0>)\n",
      "epoch: 45 loss: tensor(0.1561, device='cuda:0', grad_fn=<MseLossBackward0>) tensor(0.5244, device='cuda:0', grad_fn=<MseLossBackward0>) tensor(nan, device='cuda:0', grad_fn=<MulBackward0>) tensor(0.1561, device='cuda:0', grad_fn=<MseLossBackward0>) tensor(0.0624, device='cuda:0', grad_fn=<MseLossBackward0>) tensor(nan, device='cuda:0', grad_fn=<MulBackward0>) tensor(0.6862, device='cuda:0', grad_fn=<MseLossBackward0>)\n",
      "epoch: 46 loss: tensor(0.1288, device='cuda:0', grad_fn=<MseLossBackward0>) tensor(0.5440, device='cuda:0', grad_fn=<MseLossBackward0>) tensor(nan, device='cuda:0', grad_fn=<MulBackward0>) tensor(0.1288, device='cuda:0', grad_fn=<MseLossBackward0>) tensor(0.0626, device='cuda:0', grad_fn=<MseLossBackward0>) tensor(nan, device='cuda:0', grad_fn=<MulBackward0>) tensor(0.6311, device='cuda:0', grad_fn=<MseLossBackward0>)\n",
      "epoch: 47 loss: tensor(0.1174, device='cuda:0', grad_fn=<MseLossBackward0>) tensor(0.5459, device='cuda:0', grad_fn=<MseLossBackward0>) tensor(nan, device='cuda:0', grad_fn=<MulBackward0>) tensor(0.1174, device='cuda:0', grad_fn=<MseLossBackward0>) tensor(0.0939, device='cuda:0', grad_fn=<MseLossBackward0>) tensor(nan, device='cuda:0', grad_fn=<MulBackward0>) tensor(0.6955, device='cuda:0', grad_fn=<MseLossBackward0>)\n",
      "epoch: 48 loss: tensor(0.1491, device='cuda:0', grad_fn=<MseLossBackward0>) tensor(0.5200, device='cuda:0', grad_fn=<MseLossBackward0>) tensor(nan, device='cuda:0', grad_fn=<MulBackward0>) tensor(0.1491, device='cuda:0', grad_fn=<MseLossBackward0>) tensor(0.0861, device='cuda:0', grad_fn=<MseLossBackward0>) tensor(nan, device='cuda:0', grad_fn=<MulBackward0>) tensor(0.6774, device='cuda:0', grad_fn=<MseLossBackward0>)\n",
      "epoch: 49 loss: tensor(0.1104, device='cuda:0', grad_fn=<MseLossBackward0>) tensor(0.5337, device='cuda:0', grad_fn=<MseLossBackward0>) tensor(nan, device='cuda:0', grad_fn=<MulBackward0>) tensor(0.1104, device='cuda:0', grad_fn=<MseLossBackward0>) tensor(0.0732, device='cuda:0', grad_fn=<MseLossBackward0>) tensor(nan, device='cuda:0', grad_fn=<MulBackward0>) tensor(0.6487, device='cuda:0', grad_fn=<MseLossBackward0>)\n",
      "epoch: 50 loss: tensor(0.1298, device='cuda:0', grad_fn=<MseLossBackward0>) tensor(0.5379, device='cuda:0', grad_fn=<MseLossBackward0>) tensor(nan, device='cuda:0', grad_fn=<MulBackward0>) tensor(0.1298, device='cuda:0', grad_fn=<MseLossBackward0>) tensor(0.0634, device='cuda:0', grad_fn=<MseLossBackward0>) tensor(nan, device='cuda:0', grad_fn=<MulBackward0>) tensor(0.6896, device='cuda:0', grad_fn=<MseLossBackward0>)\n",
      "epoch: 51 loss: tensor(0.1325, device='cuda:0', grad_fn=<MseLossBackward0>) tensor(0.5346, device='cuda:0', grad_fn=<MseLossBackward0>) tensor(nan, device='cuda:0', grad_fn=<MulBackward0>) tensor(0.1325, device='cuda:0', grad_fn=<MseLossBackward0>) tensor(0.0749, device='cuda:0', grad_fn=<MseLossBackward0>) tensor(nan, device='cuda:0', grad_fn=<MulBackward0>) tensor(0.6262, device='cuda:0', grad_fn=<MseLossBackward0>)\n",
      "epoch: 52 loss: tensor(0.1729, device='cuda:0', grad_fn=<MseLossBackward0>) tensor(0.5676, device='cuda:0', grad_fn=<MseLossBackward0>) tensor(nan, device='cuda:0', grad_fn=<MulBackward0>) tensor(0.1729, device='cuda:0', grad_fn=<MseLossBackward0>) tensor(0.0817, device='cuda:0', grad_fn=<MseLossBackward0>) tensor(nan, device='cuda:0', grad_fn=<MulBackward0>) tensor(0.7171, device='cuda:0', grad_fn=<MseLossBackward0>)\n",
      "epoch: 53 loss: tensor(0.1477, device='cuda:0', grad_fn=<MseLossBackward0>) tensor(0.5229, device='cuda:0', grad_fn=<MseLossBackward0>) tensor(nan, device='cuda:0', grad_fn=<MulBackward0>) tensor(0.1477, device='cuda:0', grad_fn=<MseLossBackward0>) tensor(0.0630, device='cuda:0', grad_fn=<MseLossBackward0>) tensor(nan, device='cuda:0', grad_fn=<MulBackward0>) tensor(0.6227, device='cuda:0', grad_fn=<MseLossBackward0>)\n",
      "epoch: 54 loss: tensor(0.1204, device='cuda:0', grad_fn=<MseLossBackward0>) tensor(0.5502, device='cuda:0', grad_fn=<MseLossBackward0>) tensor(nan, device='cuda:0', grad_fn=<MulBackward0>) tensor(0.1204, device='cuda:0', grad_fn=<MseLossBackward0>) tensor(0.0746, device='cuda:0', grad_fn=<MseLossBackward0>) tensor(nan, device='cuda:0', grad_fn=<MulBackward0>) tensor(0.6647, device='cuda:0', grad_fn=<MseLossBackward0>)\n",
      "epoch: 55 loss: tensor(0.1656, device='cuda:0', grad_fn=<MseLossBackward0>) tensor(0.5799, device='cuda:0', grad_fn=<MseLossBackward0>) tensor(nan, device='cuda:0', grad_fn=<MulBackward0>) tensor(0.1656, device='cuda:0', grad_fn=<MseLossBackward0>) tensor(0.0844, device='cuda:0', grad_fn=<MseLossBackward0>) tensor(nan, device='cuda:0', grad_fn=<MulBackward0>) tensor(0.7044, device='cuda:0', grad_fn=<MseLossBackward0>)\n",
      "epoch: 56 loss: tensor(0.1606, device='cuda:0', grad_fn=<MseLossBackward0>) tensor(0.5361, device='cuda:0', grad_fn=<MseLossBackward0>) tensor(nan, device='cuda:0', grad_fn=<MulBackward0>) tensor(0.1606, device='cuda:0', grad_fn=<MseLossBackward0>) tensor(0.0647, device='cuda:0', grad_fn=<MseLossBackward0>) tensor(nan, device='cuda:0', grad_fn=<MulBackward0>) tensor(0.6765, device='cuda:0', grad_fn=<MseLossBackward0>)\n",
      "epoch: 57 loss: tensor(0.1855, device='cuda:0', grad_fn=<MseLossBackward0>) tensor(0.5334, device='cuda:0', grad_fn=<MseLossBackward0>) tensor(nan, device='cuda:0', grad_fn=<MulBackward0>) tensor(0.1855, device='cuda:0', grad_fn=<MseLossBackward0>) tensor(0.1015, device='cuda:0', grad_fn=<MseLossBackward0>) tensor(nan, device='cuda:0', grad_fn=<MulBackward0>) tensor(0.6677, device='cuda:0', grad_fn=<MseLossBackward0>)\n",
      "epoch: 58 loss: tensor(0.1394, device='cuda:0', grad_fn=<MseLossBackward0>) tensor(0.6096, device='cuda:0', grad_fn=<MseLossBackward0>) tensor(nan, device='cuda:0', grad_fn=<MulBackward0>) tensor(0.1394, device='cuda:0', grad_fn=<MseLossBackward0>) tensor(0.0743, device='cuda:0', grad_fn=<MseLossBackward0>) tensor(nan, device='cuda:0', grad_fn=<MulBackward0>) tensor(0.7593, device='cuda:0', grad_fn=<MseLossBackward0>)\n",
      "epoch: 59 loss: tensor(0.1383, device='cuda:0', grad_fn=<MseLossBackward0>) tensor(0.4825, device='cuda:0', grad_fn=<MseLossBackward0>) tensor(nan, device='cuda:0', grad_fn=<MulBackward0>) tensor(0.1383, device='cuda:0', grad_fn=<MseLossBackward0>) tensor(0.0627, device='cuda:0', grad_fn=<MseLossBackward0>) tensor(nan, device='cuda:0', grad_fn=<MulBackward0>) tensor(0.5936, device='cuda:0', grad_fn=<MseLossBackward0>)\n",
      "epoch: 60 loss: tensor(0.1649, device='cuda:0', grad_fn=<MseLossBackward0>) tensor(0.5546, device='cuda:0', grad_fn=<MseLossBackward0>) tensor(nan, device='cuda:0', grad_fn=<MulBackward0>) tensor(0.1649, device='cuda:0', grad_fn=<MseLossBackward0>) tensor(0.0773, device='cuda:0', grad_fn=<MseLossBackward0>) tensor(nan, device='cuda:0', grad_fn=<MulBackward0>) tensor(0.6584, device='cuda:0', grad_fn=<MseLossBackward0>)\n",
      "epoch: 61 loss: tensor(0.1292, device='cuda:0', grad_fn=<MseLossBackward0>) tensor(0.5411, device='cuda:0', grad_fn=<MseLossBackward0>) tensor(nan, device='cuda:0', grad_fn=<MulBackward0>) tensor(0.1292, device='cuda:0', grad_fn=<MseLossBackward0>) tensor(0.0653, device='cuda:0', grad_fn=<MseLossBackward0>) tensor(nan, device='cuda:0', grad_fn=<MulBackward0>) tensor(0.6684, device='cuda:0', grad_fn=<MseLossBackward0>)\n",
      "epoch: 62 loss: tensor(0.1183, device='cuda:0', grad_fn=<MseLossBackward0>) tensor(0.5308, device='cuda:0', grad_fn=<MseLossBackward0>) tensor(nan, device='cuda:0', grad_fn=<MulBackward0>) tensor(0.1183, device='cuda:0', grad_fn=<MseLossBackward0>) tensor(0.0770, device='cuda:0', grad_fn=<MseLossBackward0>) tensor(nan, device='cuda:0', grad_fn=<MulBackward0>) tensor(0.6281, device='cuda:0', grad_fn=<MseLossBackward0>)\n",
      "epoch: 63 loss: tensor(0.1257, device='cuda:0', grad_fn=<MseLossBackward0>) tensor(0.5382, device='cuda:0', grad_fn=<MseLossBackward0>) tensor(nan, device='cuda:0', grad_fn=<MulBackward0>) tensor(0.1257, device='cuda:0', grad_fn=<MseLossBackward0>) tensor(0.0623, device='cuda:0', grad_fn=<MseLossBackward0>) tensor(nan, device='cuda:0', grad_fn=<MulBackward0>) tensor(0.6791, device='cuda:0', grad_fn=<MseLossBackward0>)\n",
      "epoch: 64 loss: tensor(0.1581, device='cuda:0', grad_fn=<MseLossBackward0>) tensor(0.5822, device='cuda:0', grad_fn=<MseLossBackward0>) tensor(nan, device='cuda:0', grad_fn=<MulBackward0>) tensor(0.1581, device='cuda:0', grad_fn=<MseLossBackward0>) tensor(0.0712, device='cuda:0', grad_fn=<MseLossBackward0>) tensor(nan, device='cuda:0', grad_fn=<MulBackward0>) tensor(0.6924, device='cuda:0', grad_fn=<MseLossBackward0>)\n",
      "epoch: 65 loss: tensor(0.1284, device='cuda:0', grad_fn=<MseLossBackward0>) tensor(0.5112, device='cuda:0', grad_fn=<MseLossBackward0>) tensor(nan, device='cuda:0', grad_fn=<MulBackward0>) tensor(0.1284, device='cuda:0', grad_fn=<MseLossBackward0>) tensor(0.0576, device='cuda:0', grad_fn=<MseLossBackward0>) tensor(nan, device='cuda:0', grad_fn=<MulBackward0>) tensor(0.6392, device='cuda:0', grad_fn=<MseLossBackward0>)\n",
      "epoch: 66 loss: tensor(0.1232, device='cuda:0', grad_fn=<MseLossBackward0>) tensor(0.4904, device='cuda:0', grad_fn=<MseLossBackward0>) tensor(nan, device='cuda:0', grad_fn=<MulBackward0>) tensor(0.1232, device='cuda:0', grad_fn=<MseLossBackward0>) tensor(0.0617, device='cuda:0', grad_fn=<MseLossBackward0>) tensor(nan, device='cuda:0', grad_fn=<MulBackward0>) tensor(0.6113, device='cuda:0', grad_fn=<MseLossBackward0>)\n",
      "epoch: 67 loss: tensor(0.1277, device='cuda:0', grad_fn=<MseLossBackward0>) tensor(0.5350, device='cuda:0', grad_fn=<MseLossBackward0>) tensor(nan, device='cuda:0', grad_fn=<MulBackward0>) tensor(0.1277, device='cuda:0', grad_fn=<MseLossBackward0>) tensor(0.0576, device='cuda:0', grad_fn=<MseLossBackward0>) tensor(nan, device='cuda:0', grad_fn=<MulBackward0>) tensor(0.6343, device='cuda:0', grad_fn=<MseLossBackward0>)\n",
      "epoch: 68 loss: tensor(0.1261, device='cuda:0', grad_fn=<MseLossBackward0>) tensor(0.5081, device='cuda:0', grad_fn=<MseLossBackward0>) tensor(nan, device='cuda:0', grad_fn=<MulBackward0>) tensor(0.1261, device='cuda:0', grad_fn=<MseLossBackward0>) tensor(0.0596, device='cuda:0', grad_fn=<MseLossBackward0>) tensor(nan, device='cuda:0', grad_fn=<MulBackward0>) tensor(0.6177, device='cuda:0', grad_fn=<MseLossBackward0>)\n",
      "epoch: 69 loss: tensor(0.1446, device='cuda:0', grad_fn=<MseLossBackward0>) tensor(0.5549, device='cuda:0', grad_fn=<MseLossBackward0>) tensor(nan, device='cuda:0', grad_fn=<MulBackward0>) tensor(0.1446, device='cuda:0', grad_fn=<MseLossBackward0>) tensor(0.0621, device='cuda:0', grad_fn=<MseLossBackward0>) tensor(nan, device='cuda:0', grad_fn=<MulBackward0>) tensor(0.7280, device='cuda:0', grad_fn=<MseLossBackward0>)\n",
      "epoch: 70 loss: tensor(0.1548, device='cuda:0', grad_fn=<MseLossBackward0>) tensor(0.5634, device='cuda:0', grad_fn=<MseLossBackward0>) tensor(nan, device='cuda:0', grad_fn=<MulBackward0>) tensor(0.1548, device='cuda:0', grad_fn=<MseLossBackward0>) tensor(0.0748, device='cuda:0', grad_fn=<MseLossBackward0>) tensor(nan, device='cuda:0', grad_fn=<MulBackward0>) tensor(0.6636, device='cuda:0', grad_fn=<MseLossBackward0>)\n",
      "epoch: 71 loss: tensor(0.1230, device='cuda:0', grad_fn=<MseLossBackward0>) tensor(0.4757, device='cuda:0', grad_fn=<MseLossBackward0>) tensor(nan, device='cuda:0', grad_fn=<MulBackward0>) tensor(0.1230, device='cuda:0', grad_fn=<MseLossBackward0>) tensor(0.0645, device='cuda:0', grad_fn=<MseLossBackward0>) tensor(nan, device='cuda:0', grad_fn=<MulBackward0>) tensor(0.6117, device='cuda:0', grad_fn=<MseLossBackward0>)\n",
      "epoch: 72 loss: tensor(0.1535, device='cuda:0', grad_fn=<MseLossBackward0>) tensor(0.5475, device='cuda:0', grad_fn=<MseLossBackward0>) tensor(nan, device='cuda:0', grad_fn=<MulBackward0>) tensor(0.1535, device='cuda:0', grad_fn=<MseLossBackward0>) tensor(0.0784, device='cuda:0', grad_fn=<MseLossBackward0>) tensor(nan, device='cuda:0', grad_fn=<MulBackward0>) tensor(0.6784, device='cuda:0', grad_fn=<MseLossBackward0>)\n",
      "epoch: 73 loss: tensor(0.1445, device='cuda:0', grad_fn=<MseLossBackward0>) tensor(0.4923, device='cuda:0', grad_fn=<MseLossBackward0>) tensor(nan, device='cuda:0', grad_fn=<MulBackward0>) tensor(0.1445, device='cuda:0', grad_fn=<MseLossBackward0>) tensor(0.0617, device='cuda:0', grad_fn=<MseLossBackward0>) tensor(nan, device='cuda:0', grad_fn=<MulBackward0>) tensor(0.6614, device='cuda:0', grad_fn=<MseLossBackward0>)\n",
      "epoch: 74 loss: tensor(0.1417, device='cuda:0', grad_fn=<MseLossBackward0>) tensor(0.5378, device='cuda:0', grad_fn=<MseLossBackward0>) tensor(nan, device='cuda:0', grad_fn=<MulBackward0>) tensor(0.1417, device='cuda:0', grad_fn=<MseLossBackward0>) tensor(0.0754, device='cuda:0', grad_fn=<MseLossBackward0>) tensor(nan, device='cuda:0', grad_fn=<MulBackward0>) tensor(0.7191, device='cuda:0', grad_fn=<MseLossBackward0>)\n",
      "epoch: 75 loss: tensor(0.1513, device='cuda:0', grad_fn=<MseLossBackward0>) tensor(0.5074, device='cuda:0', grad_fn=<MseLossBackward0>) tensor(nan, device='cuda:0', grad_fn=<MulBackward0>) tensor(0.1513, device='cuda:0', grad_fn=<MseLossBackward0>) tensor(0.0749, device='cuda:0', grad_fn=<MseLossBackward0>) tensor(nan, device='cuda:0', grad_fn=<MulBackward0>) tensor(0.6242, device='cuda:0', grad_fn=<MseLossBackward0>)\n",
      "epoch: 76 loss: tensor(0.1440, device='cuda:0', grad_fn=<MseLossBackward0>) tensor(0.5446, device='cuda:0', grad_fn=<MseLossBackward0>) tensor(nan, device='cuda:0', grad_fn=<MulBackward0>) tensor(0.1440, device='cuda:0', grad_fn=<MseLossBackward0>) tensor(0.0613, device='cuda:0', grad_fn=<MseLossBackward0>) tensor(nan, device='cuda:0', grad_fn=<MulBackward0>) tensor(0.6795, device='cuda:0', grad_fn=<MseLossBackward0>)\n",
      "epoch: 77 loss: tensor(0.1577, device='cuda:0', grad_fn=<MseLossBackward0>) tensor(0.5422, device='cuda:0', grad_fn=<MseLossBackward0>) tensor(nan, device='cuda:0', grad_fn=<MulBackward0>) tensor(0.1577, device='cuda:0', grad_fn=<MseLossBackward0>) tensor(0.0615, device='cuda:0', grad_fn=<MseLossBackward0>) tensor(nan, device='cuda:0', grad_fn=<MulBackward0>) tensor(0.6753, device='cuda:0', grad_fn=<MseLossBackward0>)\n",
      "epoch: 78 loss: tensor(0.1446, device='cuda:0', grad_fn=<MseLossBackward0>) tensor(0.5330, device='cuda:0', grad_fn=<MseLossBackward0>) tensor(nan, device='cuda:0', grad_fn=<MulBackward0>) tensor(0.1446, device='cuda:0', grad_fn=<MseLossBackward0>) tensor(0.0911, device='cuda:0', grad_fn=<MseLossBackward0>) tensor(nan, device='cuda:0', grad_fn=<MulBackward0>) tensor(0.6561, device='cuda:0', grad_fn=<MseLossBackward0>)\n",
      "epoch: 79 loss: tensor(0.1424, device='cuda:0', grad_fn=<MseLossBackward0>) tensor(0.5176, device='cuda:0', grad_fn=<MseLossBackward0>) tensor(nan, device='cuda:0', grad_fn=<MulBackward0>) tensor(0.1424, device='cuda:0', grad_fn=<MseLossBackward0>) tensor(0.0650, device='cuda:0', grad_fn=<MseLossBackward0>) tensor(nan, device='cuda:0', grad_fn=<MulBackward0>) tensor(0.6468, device='cuda:0', grad_fn=<MseLossBackward0>)\n",
      "epoch: 80 loss: tensor(0.1363, device='cuda:0', grad_fn=<MseLossBackward0>) tensor(0.5119, device='cuda:0', grad_fn=<MseLossBackward0>) tensor(nan, device='cuda:0', grad_fn=<MulBackward0>) tensor(0.1363, device='cuda:0', grad_fn=<MseLossBackward0>) tensor(0.0518, device='cuda:0', grad_fn=<MseLossBackward0>) tensor(nan, device='cuda:0', grad_fn=<MulBackward0>) tensor(0.6412, device='cuda:0', grad_fn=<MseLossBackward0>)\n",
      "epoch: 81 loss: tensor(0.1476, device='cuda:0', grad_fn=<MseLossBackward0>) tensor(0.5788, device='cuda:0', grad_fn=<MseLossBackward0>) tensor(nan, device='cuda:0', grad_fn=<MulBackward0>) tensor(0.1476, device='cuda:0', grad_fn=<MseLossBackward0>) tensor(0.0606, device='cuda:0', grad_fn=<MseLossBackward0>) tensor(nan, device='cuda:0', grad_fn=<MulBackward0>) tensor(0.7241, device='cuda:0', grad_fn=<MseLossBackward0>)\n",
      "epoch: 82 loss: tensor(0.1420, device='cuda:0', grad_fn=<MseLossBackward0>) tensor(0.5306, device='cuda:0', grad_fn=<MseLossBackward0>) tensor(nan, device='cuda:0', grad_fn=<MulBackward0>) tensor(0.1420, device='cuda:0', grad_fn=<MseLossBackward0>) tensor(0.0820, device='cuda:0', grad_fn=<MseLossBackward0>) tensor(nan, device='cuda:0', grad_fn=<MulBackward0>) tensor(0.6558, device='cuda:0', grad_fn=<MseLossBackward0>)\n",
      "epoch: 83 loss: tensor(0.1322, device='cuda:0', grad_fn=<MseLossBackward0>) tensor(0.5819, device='cuda:0', grad_fn=<MseLossBackward0>) tensor(nan, device='cuda:0', grad_fn=<MulBackward0>) tensor(0.1322, device='cuda:0', grad_fn=<MseLossBackward0>) tensor(0.0729, device='cuda:0', grad_fn=<MseLossBackward0>) tensor(nan, device='cuda:0', grad_fn=<MulBackward0>) tensor(0.6931, device='cuda:0', grad_fn=<MseLossBackward0>)\n",
      "epoch: 84 loss: tensor(0.1424, device='cuda:0', grad_fn=<MseLossBackward0>) tensor(0.5233, device='cuda:0', grad_fn=<MseLossBackward0>) tensor(nan, device='cuda:0', grad_fn=<MulBackward0>) tensor(0.1424, device='cuda:0', grad_fn=<MseLossBackward0>) tensor(0.0591, device='cuda:0', grad_fn=<MseLossBackward0>) tensor(nan, device='cuda:0', grad_fn=<MulBackward0>) tensor(0.6634, device='cuda:0', grad_fn=<MseLossBackward0>)\n",
      "epoch: 85 loss: tensor(0.1600, device='cuda:0', grad_fn=<MseLossBackward0>) tensor(0.5612, device='cuda:0', grad_fn=<MseLossBackward0>) tensor(nan, device='cuda:0', grad_fn=<MulBackward0>) tensor(0.1600, device='cuda:0', grad_fn=<MseLossBackward0>) tensor(0.0731, device='cuda:0', grad_fn=<MseLossBackward0>) tensor(nan, device='cuda:0', grad_fn=<MulBackward0>) tensor(0.7356, device='cuda:0', grad_fn=<MseLossBackward0>)\n",
      "epoch: 86 loss: tensor(0.1447, device='cuda:0', grad_fn=<MseLossBackward0>) tensor(0.5445, device='cuda:0', grad_fn=<MseLossBackward0>) tensor(nan, device='cuda:0', grad_fn=<MulBackward0>) tensor(0.1447, device='cuda:0', grad_fn=<MseLossBackward0>) tensor(0.0576, device='cuda:0', grad_fn=<MseLossBackward0>) tensor(nan, device='cuda:0', grad_fn=<MulBackward0>) tensor(0.6422, device='cuda:0', grad_fn=<MseLossBackward0>)\n",
      "epoch: 87 loss: tensor(0.1204, device='cuda:0', grad_fn=<MseLossBackward0>) tensor(0.5343, device='cuda:0', grad_fn=<MseLossBackward0>) tensor(nan, device='cuda:0', grad_fn=<MulBackward0>) tensor(0.1204, device='cuda:0', grad_fn=<MseLossBackward0>) tensor(0.0514, device='cuda:0', grad_fn=<MseLossBackward0>) tensor(nan, device='cuda:0', grad_fn=<MulBackward0>) tensor(0.6242, device='cuda:0', grad_fn=<MseLossBackward0>)\n",
      "epoch: 88 loss: tensor(0.1177, device='cuda:0', grad_fn=<MseLossBackward0>) tensor(0.5346, device='cuda:0', grad_fn=<MseLossBackward0>) tensor(nan, device='cuda:0', grad_fn=<MulBackward0>) tensor(0.1177, device='cuda:0', grad_fn=<MseLossBackward0>) tensor(0.0658, device='cuda:0', grad_fn=<MseLossBackward0>) tensor(nan, device='cuda:0', grad_fn=<MulBackward0>) tensor(0.6698, device='cuda:0', grad_fn=<MseLossBackward0>)\n",
      "epoch: 89 loss: tensor(0.1461, device='cuda:0', grad_fn=<MseLossBackward0>) tensor(0.5156, device='cuda:0', grad_fn=<MseLossBackward0>) tensor(nan, device='cuda:0', grad_fn=<MulBackward0>) tensor(0.1461, device='cuda:0', grad_fn=<MseLossBackward0>) tensor(0.0772, device='cuda:0', grad_fn=<MseLossBackward0>) tensor(nan, device='cuda:0', grad_fn=<MulBackward0>) tensor(0.6253, device='cuda:0', grad_fn=<MseLossBackward0>)\n",
      "epoch: 90 loss: tensor(0.1159, device='cuda:0', grad_fn=<MseLossBackward0>) tensor(0.5322, device='cuda:0', grad_fn=<MseLossBackward0>) tensor(nan, device='cuda:0', grad_fn=<MulBackward0>) tensor(0.1159, device='cuda:0', grad_fn=<MseLossBackward0>) tensor(0.0795, device='cuda:0', grad_fn=<MseLossBackward0>) tensor(nan, device='cuda:0', grad_fn=<MulBackward0>) tensor(0.6369, device='cuda:0', grad_fn=<MseLossBackward0>)\n",
      "epoch: 91 loss: tensor(0.1583, device='cuda:0', grad_fn=<MseLossBackward0>) tensor(0.5368, device='cuda:0', grad_fn=<MseLossBackward0>) tensor(nan, device='cuda:0', grad_fn=<MulBackward0>) tensor(0.1583, device='cuda:0', grad_fn=<MseLossBackward0>) tensor(0.0797, device='cuda:0', grad_fn=<MseLossBackward0>) tensor(nan, device='cuda:0', grad_fn=<MulBackward0>) tensor(0.6863, device='cuda:0', grad_fn=<MseLossBackward0>)\n",
      "epoch: 92 loss: tensor(0.1319, device='cuda:0', grad_fn=<MseLossBackward0>) tensor(0.5381, device='cuda:0', grad_fn=<MseLossBackward0>) tensor(nan, device='cuda:0', grad_fn=<MulBackward0>) tensor(0.1319, device='cuda:0', grad_fn=<MseLossBackward0>) tensor(0.0632, device='cuda:0', grad_fn=<MseLossBackward0>) tensor(nan, device='cuda:0', grad_fn=<MulBackward0>) tensor(0.6275, device='cuda:0', grad_fn=<MseLossBackward0>)\n",
      "epoch: 93 loss: tensor(0.1323, device='cuda:0', grad_fn=<MseLossBackward0>) tensor(0.5493, device='cuda:0', grad_fn=<MseLossBackward0>) tensor(nan, device='cuda:0', grad_fn=<MulBackward0>) tensor(0.1323, device='cuda:0', grad_fn=<MseLossBackward0>) tensor(0.0817, device='cuda:0', grad_fn=<MseLossBackward0>) tensor(nan, device='cuda:0', grad_fn=<MulBackward0>) tensor(0.6361, device='cuda:0', grad_fn=<MseLossBackward0>)\n",
      "epoch: 94 loss: tensor(0.1194, device='cuda:0', grad_fn=<MseLossBackward0>) tensor(0.5491, device='cuda:0', grad_fn=<MseLossBackward0>) tensor(nan, device='cuda:0', grad_fn=<MulBackward0>) tensor(0.1194, device='cuda:0', grad_fn=<MseLossBackward0>) tensor(0.0627, device='cuda:0', grad_fn=<MseLossBackward0>) tensor(nan, device='cuda:0', grad_fn=<MulBackward0>) tensor(0.6769, device='cuda:0', grad_fn=<MseLossBackward0>)\n",
      "epoch: 95 loss: tensor(0.1444, device='cuda:0', grad_fn=<MseLossBackward0>) tensor(0.5579, device='cuda:0', grad_fn=<MseLossBackward0>) tensor(nan, device='cuda:0', grad_fn=<MulBackward0>) tensor(0.1444, device='cuda:0', grad_fn=<MseLossBackward0>) tensor(0.0532, device='cuda:0', grad_fn=<MseLossBackward0>) tensor(nan, device='cuda:0', grad_fn=<MulBackward0>) tensor(0.7640, device='cuda:0', grad_fn=<MseLossBackward0>)\n",
      "epoch: 96 loss: tensor(0.1369, device='cuda:0', grad_fn=<MseLossBackward0>) tensor(0.5097, device='cuda:0', grad_fn=<MseLossBackward0>) tensor(nan, device='cuda:0', grad_fn=<MulBackward0>) tensor(0.1369, device='cuda:0', grad_fn=<MseLossBackward0>) tensor(0.0509, device='cuda:0', grad_fn=<MseLossBackward0>) tensor(nan, device='cuda:0', grad_fn=<MulBackward0>) tensor(0.5992, device='cuda:0', grad_fn=<MseLossBackward0>)\n",
      "epoch: 97 loss: tensor(0.1489, device='cuda:0', grad_fn=<MseLossBackward0>) tensor(0.5381, device='cuda:0', grad_fn=<MseLossBackward0>) tensor(nan, device='cuda:0', grad_fn=<MulBackward0>) tensor(0.1489, device='cuda:0', grad_fn=<MseLossBackward0>) tensor(0.0756, device='cuda:0', grad_fn=<MseLossBackward0>) tensor(nan, device='cuda:0', grad_fn=<MulBackward0>) tensor(0.6478, device='cuda:0', grad_fn=<MseLossBackward0>)\n",
      "epoch: 98 loss: tensor(0.1489, device='cuda:0', grad_fn=<MseLossBackward0>) tensor(0.6052, device='cuda:0', grad_fn=<MseLossBackward0>) tensor(nan, device='cuda:0', grad_fn=<MulBackward0>) tensor(0.1489, device='cuda:0', grad_fn=<MseLossBackward0>) tensor(0.0661, device='cuda:0', grad_fn=<MseLossBackward0>) tensor(nan, device='cuda:0', grad_fn=<MulBackward0>) tensor(0.7178, device='cuda:0', grad_fn=<MseLossBackward0>)\n",
      "epoch: 99 loss: tensor(0.1573, device='cuda:0', grad_fn=<MseLossBackward0>) tensor(0.5420, device='cuda:0', grad_fn=<MseLossBackward0>) tensor(nan, device='cuda:0', grad_fn=<MulBackward0>) tensor(0.1573, device='cuda:0', grad_fn=<MseLossBackward0>) tensor(0.0751, device='cuda:0', grad_fn=<MseLossBackward0>) tensor(nan, device='cuda:0', grad_fn=<MulBackward0>) tensor(0.6631, device='cuda:0', grad_fn=<MseLossBackward0>)\n",
      "epoch: 100 loss: tensor(0.1360, device='cuda:0', grad_fn=<MseLossBackward0>) tensor(0.5224, device='cuda:0', grad_fn=<MseLossBackward0>) tensor(nan, device='cuda:0', grad_fn=<MulBackward0>) tensor(0.1360, device='cuda:0', grad_fn=<MseLossBackward0>) tensor(0.0634, device='cuda:0', grad_fn=<MseLossBackward0>) tensor(nan, device='cuda:0', grad_fn=<MulBackward0>) tensor(0.6774, device='cuda:0', grad_fn=<MseLossBackward0>)\n"
     ]
    }
   ],
   "source": [
    "bvae=bvae.to('cuda')\n",
    "mode = 0\n",
    "dataset = \"\"\n",
    "epochs = 100\n",
    "for epoch in range(epochs):\n",
    "    for batch_idx, (image, action) in enumerate(train_loader):\n",
    "        action = action.type(torch.float32)\n",
    "        enc_optimizer.zero_grad()\n",
    "        dec_optimizer.zero_grad()\n",
    "        optimizer.zero_grad()\n",
    "\n",
    "        image = image.to('cuda')\n",
    "        action = action.to('cuda')\n",
    "\n",
    "        batch_size = image.shape[0]\n",
    "\n",
    "        image = image.reshape(batch_size, 3, 224, 224)\n",
    "        action = action.reshape(batch_size, 7)\n",
    "\n",
    "        i_supervised_loss, i_recon_loss, a_recon_loss, i_kl_loss, a_kl_loss, i_latent, a_latent, a_supervised_loss = bvae.forward(image, action)\n",
    "        \n",
    "        enc_loss = i_supervised_loss\n",
    "        dec_loss  = i_recon_loss\n",
    "        loss = i_supervised_loss*1 + i_recon_loss*2 + a_recon_loss*1 + a_supervised_loss*2\n",
    "        # enc_loss.backward(retain_graph=True)\n",
    "        # dec_loss.backward()\n",
    "        loss.backward()\n",
    "\n",
    "        # enc_optimizer.step()\n",
    "        # dec_optimizer.step()\n",
    "        optimizer.step()\n",
    "    print(\"epoch:\", epoch+1, \"loss:\", enc_loss, i_recon_loss, i_kl_loss, i_supervised_loss, a_recon_loss, a_kl_loss, a_supervised_loss)\n",
    "    # print(\"epoch:\", epoch+1, \"loss:\", i_supervised_loss)\n",
    "    wandb.log({dataset+\"Total Loss\": (i_recon_loss+a_recon_loss+i_supervised_loss+a_supervised_loss)/4, dataset+\"Image Reconstruction Loss\": i_recon_loss, dataset+\"Image KL Loss\": i_kl_loss, dataset+\"Image Supervised Loss\": i_supervised_loss, dataset+\"Action Reconstruction Loss\": a_recon_loss, dataset+\"Action KL Loss\": a_kl_loss, dataset+\"Action Supervised Loss\": a_supervised_loss})\n",
    "    # wandb.log({\"Total Loss\": loss, \"Image Reconstruction Loss\": i_recon_loss, \"Image KL Loss\": i_kl_loss, \"Image Supervised Loss\": i_supervised_loss})\n",
    "    "
   ]
  },
  {
   "cell_type": "code",
   "execution_count": null,
   "metadata": {},
   "outputs": [
    {
     "name": "stdout",
     "output_type": "stream",
     "text": [
      "Epoch: 0 Loss: 0.4383429288864136\n",
      "Epoch: 1 Loss: 0.4301649034023285\n",
      "Epoch: 2 Loss: 0.4578512907028198\n",
      "Epoch: 3 Loss: 0.43410128355026245\n",
      "Epoch: 4 Loss: 0.4241388142108917\n",
      "Epoch: 5 Loss: 0.4313424527645111\n",
      "Epoch: 6 Loss: 0.4367752969264984\n",
      "Epoch: 7 Loss: 0.4343550205230713\n",
      "Epoch: 8 Loss: 0.47053414583206177\n",
      "Epoch: 9 Loss: 0.4254465401172638\n",
      "Epoch: 10 Loss: 0.42946919798851013\n",
      "Epoch: 11 Loss: 0.4158341586589813\n",
      "Epoch: 12 Loss: 0.4110502004623413\n",
      "Epoch: 13 Loss: 0.4472953975200653\n",
      "Epoch: 14 Loss: 0.43547752499580383\n",
      "Epoch: 15 Loss: 0.4087366759777069\n",
      "Epoch: 16 Loss: 0.41426053643226624\n",
      "Epoch: 17 Loss: 0.491393506526947\n",
      "Epoch: 18 Loss: 0.4341486990451813\n",
      "Epoch: 19 Loss: 0.4510062634944916\n",
      "Epoch: 20 Loss: 0.4019154906272888\n",
      "Epoch: 21 Loss: 0.4234788715839386\n",
      "Epoch: 22 Loss: 0.46793097257614136\n",
      "Epoch: 23 Loss: 0.4450158476829529\n",
      "Epoch: 24 Loss: 0.4229300320148468\n",
      "Epoch: 25 Loss: 0.43788573145866394\n",
      "Epoch: 26 Loss: 0.42968523502349854\n",
      "Epoch: 27 Loss: 0.37757113575935364\n",
      "Epoch: 28 Loss: 0.45614397525787354\n",
      "Epoch: 29 Loss: 0.4147988259792328\n",
      "Epoch: 30 Loss: 0.4133257567882538\n",
      "Epoch: 31 Loss: 0.4230746328830719\n",
      "Epoch: 32 Loss: 0.3709895610809326\n",
      "Epoch: 33 Loss: 0.40340641140937805\n",
      "Epoch: 34 Loss: 0.4533078968524933\n",
      "Epoch: 35 Loss: 0.41781535744667053\n",
      "Epoch: 36 Loss: 0.41447216272354126\n",
      "Epoch: 37 Loss: 0.39820626378059387\n",
      "Epoch: 38 Loss: 0.41192519664764404\n",
      "Epoch: 39 Loss: 0.44710293412208557\n",
      "Epoch: 40 Loss: 0.3993894159793854\n",
      "Epoch: 41 Loss: 0.4295765161514282\n",
      "Epoch: 42 Loss: 0.4450935423374176\n",
      "Epoch: 43 Loss: 0.37735167145729065\n",
      "Epoch: 44 Loss: 0.4364221692085266\n",
      "Epoch: 45 Loss: 0.4159514904022217\n",
      "Epoch: 46 Loss: 0.40683308243751526\n",
      "Epoch: 47 Loss: 0.4152200222015381\n",
      "Epoch: 48 Loss: 0.44499287009239197\n",
      "Epoch: 49 Loss: 0.39471402764320374\n",
      "Epoch: 50 Loss: 0.45095202326774597\n",
      "Epoch: 51 Loss: 0.4122440814971924\n",
      "Epoch: 52 Loss: 0.3881213963031769\n",
      "Epoch: 53 Loss: 0.4415982663631439\n",
      "Epoch: 54 Loss: 0.41462981700897217\n",
      "Epoch: 55 Loss: 0.40115687251091003\n",
      "Epoch: 56 Loss: 0.38142427802085876\n",
      "Epoch: 57 Loss: 0.4179787337779999\n",
      "Epoch: 58 Loss: 0.4214021861553192\n",
      "Epoch: 59 Loss: 0.41461116075515747\n",
      "Epoch: 60 Loss: 0.3854909837245941\n",
      "Epoch: 61 Loss: 0.3945675790309906\n",
      "Epoch: 62 Loss: 0.39774206280708313\n",
      "Epoch: 63 Loss: 0.37645938992500305\n",
      "Epoch: 64 Loss: 0.38758584856987\n",
      "Epoch: 65 Loss: 0.3909624516963959\n",
      "Epoch: 66 Loss: 0.426878958940506\n",
      "Epoch: 67 Loss: 0.3911883234977722\n",
      "Epoch: 68 Loss: 0.3543192744255066\n",
      "Epoch: 69 Loss: 0.4555785655975342\n",
      "Epoch: 70 Loss: 0.3766956627368927\n",
      "Epoch: 71 Loss: 0.41114574670791626\n",
      "Epoch: 72 Loss: 0.40296071767807007\n",
      "Epoch: 73 Loss: 0.38741862773895264\n",
      "Epoch: 74 Loss: 0.41261449456214905\n",
      "Epoch: 75 Loss: 0.40121176838874817\n",
      "Epoch: 76 Loss: 0.39752888679504395\n",
      "Epoch: 77 Loss: 0.4216079115867615\n",
      "Epoch: 78 Loss: 0.42434871196746826\n",
      "Epoch: 79 Loss: 0.42591267824172974\n",
      "Epoch: 80 Loss: 0.3556720018386841\n",
      "Epoch: 81 Loss: 0.4059651792049408\n",
      "Epoch: 82 Loss: 0.4098305106163025\n",
      "Epoch: 83 Loss: 0.39500510692596436\n",
      "Epoch: 84 Loss: 0.43488359451293945\n",
      "Epoch: 85 Loss: 0.43954887986183167\n",
      "Epoch: 86 Loss: 0.3896905779838562\n",
      "Epoch: 87 Loss: 0.3671707510948181\n",
      "Epoch: 88 Loss: 0.3644944727420807\n",
      "Epoch: 89 Loss: 0.36398375034332275\n",
      "Epoch: 90 Loss: 0.40913131833076477\n",
      "Epoch: 91 Loss: 0.38314077258110046\n",
      "Epoch: 92 Loss: 0.3837747871875763\n",
      "Epoch: 93 Loss: 0.408414751291275\n",
      "Epoch: 94 Loss: 0.42996370792388916\n",
      "Epoch: 95 Loss: 0.4173981249332428\n",
      "Epoch: 96 Loss: 0.3787103295326233\n",
      "Epoch: 97 Loss: 0.38933467864990234\n",
      "Epoch: 98 Loss: 0.36534297466278076\n",
      "Epoch: 99 Loss: 0.4107544720172882\n"
     ]
    }
   ],
   "source": [
    "epochs = 100\n",
    "for epoch in range(epochs):\n",
    "    for batch_idx, (image, action) in enumerate(train_loader):\n",
    "        action = action.type(torch.float32)\n",
    "        optimizer.zero_grad()\n",
    "\n",
    "        image = image.to('cuda')\n",
    "        action = action.to('cuda')\n",
    "        batch_size = image.shape[0]\n",
    "        image = image.reshape(batch_size, 3, 224, 224)\n",
    "        action = action.reshape(batch_size, 7)\n",
    "        latent_image = bvae.decoder(action)[:, :3]\n",
    "        a_supervised_loss = F.mse_loss(latent_image, image)\n",
    "        a_supervised_loss.backward()\n",
    "        optimizer.step()\n",
    "    print('Epoch:', epoch, 'Loss:', a_supervised_loss.item())\n"
   ]
  },
  {
   "cell_type": "code",
   "execution_count": null,
   "metadata": {},
   "outputs": [],
   "source": [
    "bvae.save_model(\"goodmodel\")"
   ]
  },
  {
   "cell_type": "code",
   "execution_count": null,
   "metadata": {},
   "outputs": [
    {
     "data": {
      "text/plain": [
       "24436"
      ]
     },
     "execution_count": 108,
     "metadata": {},
     "output_type": "execute_result"
    }
   ],
   "source": [
    "sum(p.numel() for p in bvae.parameters() if p.requires_grad)"
   ]
  }
 ],
 "metadata": {
  "kernelspec": {
   "display_name": "stretch-robot",
   "language": "python",
   "name": "python3"
  },
  "language_info": {
   "codemirror_mode": {
    "name": "ipython",
    "version": 3
   },
   "file_extension": ".py",
   "mimetype": "text/x-python",
   "name": "python",
   "nbconvert_exporter": "python",
   "pygments_lexer": "ipython3",
   "version": "3.10.12"
  },
  "orig_nbformat": 4
 },
 "nbformat": 4,
 "nbformat_minor": 2
}
